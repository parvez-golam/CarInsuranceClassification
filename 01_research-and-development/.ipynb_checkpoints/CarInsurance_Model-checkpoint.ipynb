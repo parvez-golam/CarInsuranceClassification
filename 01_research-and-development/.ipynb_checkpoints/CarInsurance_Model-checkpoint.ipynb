{
 "cells": [
  {
   "cell_type": "markdown",
   "id": "e64681dc",
   "metadata": {},
   "source": [
    "# Machine Learning Pipeline\n",
    "\n",
    "This notebook, contains the implementation of each of the steps in the Machine Learning Pipeline. \n",
    "\n",
    "The notebook comprises of :\n",
    "\n",
    "1. Data Analysis\n",
    "2. Feature Engineering\n",
    "3. Feature Selection\n",
    "4. Model Training\n",
    "5. Obtaining Predictions / Scoring\n",
    "\n",
    "## Predicting whether a given customer will buy a car insurance or not from a campaign run by a bank\n",
    "\n",
    "The aim is to build a machine learning model to predict the likelihood that a customer will buy a car insurance\n",
    "'CarInsurance'( 0 - No, 1 - Yes ), based on different explanatory variables.\n",
    "\n",
    "\n",
    "### The objective of the machine learning model\n",
    "\n",
    "The aim to minimise the difference between the real value of 'CarInsurance' and predicted value by our model. For this  model performance is evaluated with the:\n",
    "\n",
    "1. Accuracy \n",
    "2. recall \n",
    "3. Precision\n",
    "4. f1 score\n",
    "5. roc-auc "
   ]
  },
  {
   "cell_type": "code",
   "execution_count": 1,
   "id": "e338f3c2",
   "metadata": {},
   "outputs": [],
   "source": [
    "# to handle datasets\n",
    "import pandas as pd\n",
    "import numpy as np\n",
    "\n",
    "# for plotting\n",
    "import seaborn as sns\n",
    "import matplotlib.pyplot as plt\n",
    "\n",
    "# for the yeo-johnson transformation\n",
    "import scipy.stats as stats\n",
    "\n",
    "# to divide train and test set\n",
    "from sklearn.model_selection import train_test_split\n",
    "\n",
    "# feature scaling\n",
    "from sklearn.preprocessing import StandardScaler, Binarizer\n",
    "\n",
    "# to build the models\n",
    "from sklearn.linear_model import LogisticRegression\n",
    "from sklearn.tree import DecisionTreeClassifier\n",
    "from sklearn.ensemble import (\n",
    "    RandomForestClassifier,\n",
    "    BaggingClassifier\n",
    ")\n",
    "\n",
    "# Xgboost\n",
    "from xgboost import XGBClassifier\n",
    "\n",
    "# to evaluate the models\n",
    "from sklearn.metrics import (\n",
    "    accuracy_score, \n",
    "    roc_auc_score, \n",
    "    recall_score, \n",
    "    precision_score, \n",
    "    f1_score,\n",
    "    confusion_matrix, \n",
    "    classification_report\n",
    ")\n",
    "\n",
    "# pipeline\n",
    "from sklearn.pipeline import Pipeline\n",
    "\n",
    "# for cross validation\n",
    "from sklearn.model_selection import (\n",
    "    KFold, \n",
    "    cross_val_predict\n",
    ")\n",
    "\n",
    "# Yeo-tranformation Johnson in pipeline\n",
    "from feature_engine.transformation import YeoJohnsonTransformer\n",
    "\n",
    "# for imputation\n",
    "from feature_engine.imputation import CategoricalImputer\n",
    "\n",
    "# for encoding categorical variables\n",
    "from feature_engine.encoding import OneHotEncoder\n",
    "\n",
    "from feature_engine.wrappers import SklearnTransformerWrapper\n",
    "from sklearn.base import BaseEstimator, TransformerMixin\n",
    "\n",
    "# to drop features in pipeline\n",
    "from feature_engine.selection import DropFeatures\n",
    "\n",
    "\n",
    "# to display all the columns of the dataframe in the notebook\n",
    "pd.pandas.set_option(\"display.max_columns\", None)"
   ]
  },
  {
   "cell_type": "markdown",
   "id": "a2f57b13",
   "metadata": {},
   "source": [
    "# Data Analysis"
   ]
  },
  {
   "cell_type": "code",
   "execution_count": 2,
   "id": "5e8cc364",
   "metadata": {},
   "outputs": [
    {
     "name": "stdout",
     "output_type": "stream",
     "text": [
      "(4000, 19)\n"
     ]
    },
    {
     "data": {
      "text/html": [
       "<div>\n",
       "<style scoped>\n",
       "    .dataframe tbody tr th:only-of-type {\n",
       "        vertical-align: middle;\n",
       "    }\n",
       "\n",
       "    .dataframe tbody tr th {\n",
       "        vertical-align: top;\n",
       "    }\n",
       "\n",
       "    .dataframe thead th {\n",
       "        text-align: right;\n",
       "    }\n",
       "</style>\n",
       "<table border=\"1\" class=\"dataframe\">\n",
       "  <thead>\n",
       "    <tr style=\"text-align: right;\">\n",
       "      <th></th>\n",
       "      <th>Id</th>\n",
       "      <th>Age</th>\n",
       "      <th>Job</th>\n",
       "      <th>Marital</th>\n",
       "      <th>Education</th>\n",
       "      <th>Default</th>\n",
       "      <th>Balance</th>\n",
       "      <th>HHInsurance</th>\n",
       "      <th>CarLoan</th>\n",
       "      <th>Communication</th>\n",
       "      <th>LastContactDay</th>\n",
       "      <th>LastContactMonth</th>\n",
       "      <th>NoOfContacts</th>\n",
       "      <th>DaysPassed</th>\n",
       "      <th>PrevAttempts</th>\n",
       "      <th>Outcome</th>\n",
       "      <th>CallStart</th>\n",
       "      <th>CallEnd</th>\n",
       "      <th>CarInsurance</th>\n",
       "    </tr>\n",
       "  </thead>\n",
       "  <tbody>\n",
       "    <tr>\n",
       "      <th>0</th>\n",
       "      <td>1</td>\n",
       "      <td>32</td>\n",
       "      <td>management</td>\n",
       "      <td>single</td>\n",
       "      <td>tertiary</td>\n",
       "      <td>0</td>\n",
       "      <td>1218</td>\n",
       "      <td>1</td>\n",
       "      <td>0</td>\n",
       "      <td>telephone</td>\n",
       "      <td>28</td>\n",
       "      <td>jan</td>\n",
       "      <td>2</td>\n",
       "      <td>-1</td>\n",
       "      <td>0</td>\n",
       "      <td>NaN</td>\n",
       "      <td>13:45:20</td>\n",
       "      <td>13:46:30</td>\n",
       "      <td>0</td>\n",
       "    </tr>\n",
       "    <tr>\n",
       "      <th>1</th>\n",
       "      <td>2</td>\n",
       "      <td>32</td>\n",
       "      <td>blue-collar</td>\n",
       "      <td>married</td>\n",
       "      <td>primary</td>\n",
       "      <td>0</td>\n",
       "      <td>1156</td>\n",
       "      <td>1</td>\n",
       "      <td>0</td>\n",
       "      <td>NaN</td>\n",
       "      <td>26</td>\n",
       "      <td>may</td>\n",
       "      <td>5</td>\n",
       "      <td>-1</td>\n",
       "      <td>0</td>\n",
       "      <td>NaN</td>\n",
       "      <td>14:49:03</td>\n",
       "      <td>14:52:08</td>\n",
       "      <td>0</td>\n",
       "    </tr>\n",
       "    <tr>\n",
       "      <th>2</th>\n",
       "      <td>3</td>\n",
       "      <td>29</td>\n",
       "      <td>management</td>\n",
       "      <td>single</td>\n",
       "      <td>tertiary</td>\n",
       "      <td>0</td>\n",
       "      <td>637</td>\n",
       "      <td>1</td>\n",
       "      <td>0</td>\n",
       "      <td>cellular</td>\n",
       "      <td>3</td>\n",
       "      <td>jun</td>\n",
       "      <td>1</td>\n",
       "      <td>119</td>\n",
       "      <td>1</td>\n",
       "      <td>failure</td>\n",
       "      <td>16:30:24</td>\n",
       "      <td>16:36:04</td>\n",
       "      <td>1</td>\n",
       "    </tr>\n",
       "    <tr>\n",
       "      <th>3</th>\n",
       "      <td>4</td>\n",
       "      <td>25</td>\n",
       "      <td>student</td>\n",
       "      <td>single</td>\n",
       "      <td>primary</td>\n",
       "      <td>0</td>\n",
       "      <td>373</td>\n",
       "      <td>1</td>\n",
       "      <td>0</td>\n",
       "      <td>cellular</td>\n",
       "      <td>11</td>\n",
       "      <td>may</td>\n",
       "      <td>2</td>\n",
       "      <td>-1</td>\n",
       "      <td>0</td>\n",
       "      <td>NaN</td>\n",
       "      <td>12:06:43</td>\n",
       "      <td>12:20:22</td>\n",
       "      <td>1</td>\n",
       "    </tr>\n",
       "    <tr>\n",
       "      <th>4</th>\n",
       "      <td>5</td>\n",
       "      <td>30</td>\n",
       "      <td>management</td>\n",
       "      <td>married</td>\n",
       "      <td>tertiary</td>\n",
       "      <td>0</td>\n",
       "      <td>2694</td>\n",
       "      <td>0</td>\n",
       "      <td>0</td>\n",
       "      <td>cellular</td>\n",
       "      <td>3</td>\n",
       "      <td>jun</td>\n",
       "      <td>1</td>\n",
       "      <td>-1</td>\n",
       "      <td>0</td>\n",
       "      <td>NaN</td>\n",
       "      <td>14:35:44</td>\n",
       "      <td>14:38:56</td>\n",
       "      <td>0</td>\n",
       "    </tr>\n",
       "  </tbody>\n",
       "</table>\n",
       "</div>"
      ],
      "text/plain": [
       "   Id  Age          Job  Marital Education  Default  Balance  HHInsurance  \\\n",
       "0   1   32   management   single  tertiary        0     1218            1   \n",
       "1   2   32  blue-collar  married   primary        0     1156            1   \n",
       "2   3   29   management   single  tertiary        0      637            1   \n",
       "3   4   25      student   single   primary        0      373            1   \n",
       "4   5   30   management  married  tertiary        0     2694            0   \n",
       "\n",
       "   CarLoan Communication  LastContactDay LastContactMonth  NoOfContacts  \\\n",
       "0        0     telephone              28              jan             2   \n",
       "1        0           NaN              26              may             5   \n",
       "2        0      cellular               3              jun             1   \n",
       "3        0      cellular              11              may             2   \n",
       "4        0      cellular               3              jun             1   \n",
       "\n",
       "   DaysPassed  PrevAttempts  Outcome CallStart   CallEnd  CarInsurance  \n",
       "0          -1             0      NaN  13:45:20  13:46:30             0  \n",
       "1          -1             0      NaN  14:49:03  14:52:08             0  \n",
       "2         119             1  failure  16:30:24  16:36:04             1  \n",
       "3          -1             0      NaN  12:06:43  12:20:22             1  \n",
       "4          -1             0      NaN  14:35:44  14:38:56             0  "
      ]
     },
     "execution_count": 2,
     "metadata": {},
     "output_type": "execute_result"
    }
   ],
   "source": [
    "# load dataset\n",
    "data = pd.read_csv('carInsurance_train.csv')\n",
    "\n",
    "# rows and columns of the data\n",
    "print(data.shape)\n",
    "\n",
    "# visualise the dataset\n",
    "data.head()"
   ]
  },
  {
   "cell_type": "code",
   "execution_count": 3,
   "id": "03ddb1ae",
   "metadata": {},
   "outputs": [
    {
     "data": {
      "text/plain": [
       "0"
      ]
     },
     "execution_count": 3,
     "metadata": {},
     "output_type": "execute_result"
    }
   ],
   "source": [
    "# check duplicate rows\n",
    "data.duplicated().sum()"
   ]
  },
  {
   "cell_type": "markdown",
   "id": "d1058039",
   "metadata": {},
   "source": [
    "Duplicate row are checked so that there are no data leakage in train and validation sets"
   ]
  },
  {
   "cell_type": "code",
   "execution_count": 4,
   "id": "70021853",
   "metadata": {},
   "outputs": [
    {
     "data": {
      "text/html": [
       "<div>\n",
       "<style scoped>\n",
       "    .dataframe tbody tr th:only-of-type {\n",
       "        vertical-align: middle;\n",
       "    }\n",
       "\n",
       "    .dataframe tbody tr th {\n",
       "        vertical-align: top;\n",
       "    }\n",
       "\n",
       "    .dataframe thead th {\n",
       "        text-align: right;\n",
       "    }\n",
       "</style>\n",
       "<table border=\"1\" class=\"dataframe\">\n",
       "  <thead>\n",
       "    <tr style=\"text-align: right;\">\n",
       "      <th></th>\n",
       "      <th>Id</th>\n",
       "      <th>Age</th>\n",
       "      <th>Default</th>\n",
       "      <th>Balance</th>\n",
       "      <th>HHInsurance</th>\n",
       "      <th>CarLoan</th>\n",
       "      <th>LastContactDay</th>\n",
       "      <th>NoOfContacts</th>\n",
       "      <th>DaysPassed</th>\n",
       "      <th>PrevAttempts</th>\n",
       "      <th>CarInsurance</th>\n",
       "    </tr>\n",
       "  </thead>\n",
       "  <tbody>\n",
       "    <tr>\n",
       "      <th>count</th>\n",
       "      <td>4000.000000</td>\n",
       "      <td>4000.000000</td>\n",
       "      <td>4000.000000</td>\n",
       "      <td>4000.000000</td>\n",
       "      <td>4000.00000</td>\n",
       "      <td>4000.000000</td>\n",
       "      <td>4000.000000</td>\n",
       "      <td>4000.000000</td>\n",
       "      <td>4000.000000</td>\n",
       "      <td>4000.000000</td>\n",
       "      <td>4000.000000</td>\n",
       "    </tr>\n",
       "    <tr>\n",
       "      <th>mean</th>\n",
       "      <td>2000.500000</td>\n",
       "      <td>41.214750</td>\n",
       "      <td>0.014500</td>\n",
       "      <td>1532.937250</td>\n",
       "      <td>0.49275</td>\n",
       "      <td>0.133000</td>\n",
       "      <td>15.721250</td>\n",
       "      <td>2.607250</td>\n",
       "      <td>48.706500</td>\n",
       "      <td>0.717500</td>\n",
       "      <td>0.401000</td>\n",
       "    </tr>\n",
       "    <tr>\n",
       "      <th>std</th>\n",
       "      <td>1154.844867</td>\n",
       "      <td>11.550194</td>\n",
       "      <td>0.119555</td>\n",
       "      <td>3511.452489</td>\n",
       "      <td>0.50001</td>\n",
       "      <td>0.339617</td>\n",
       "      <td>8.425307</td>\n",
       "      <td>3.064204</td>\n",
       "      <td>106.685385</td>\n",
       "      <td>2.078647</td>\n",
       "      <td>0.490162</td>\n",
       "    </tr>\n",
       "    <tr>\n",
       "      <th>min</th>\n",
       "      <td>1.000000</td>\n",
       "      <td>18.000000</td>\n",
       "      <td>0.000000</td>\n",
       "      <td>-3058.000000</td>\n",
       "      <td>0.00000</td>\n",
       "      <td>0.000000</td>\n",
       "      <td>1.000000</td>\n",
       "      <td>1.000000</td>\n",
       "      <td>-1.000000</td>\n",
       "      <td>0.000000</td>\n",
       "      <td>0.000000</td>\n",
       "    </tr>\n",
       "    <tr>\n",
       "      <th>25%</th>\n",
       "      <td>1000.750000</td>\n",
       "      <td>32.000000</td>\n",
       "      <td>0.000000</td>\n",
       "      <td>111.000000</td>\n",
       "      <td>0.00000</td>\n",
       "      <td>0.000000</td>\n",
       "      <td>8.000000</td>\n",
       "      <td>1.000000</td>\n",
       "      <td>-1.000000</td>\n",
       "      <td>0.000000</td>\n",
       "      <td>0.000000</td>\n",
       "    </tr>\n",
       "    <tr>\n",
       "      <th>50%</th>\n",
       "      <td>2000.500000</td>\n",
       "      <td>39.000000</td>\n",
       "      <td>0.000000</td>\n",
       "      <td>551.500000</td>\n",
       "      <td>0.00000</td>\n",
       "      <td>0.000000</td>\n",
       "      <td>16.000000</td>\n",
       "      <td>2.000000</td>\n",
       "      <td>-1.000000</td>\n",
       "      <td>0.000000</td>\n",
       "      <td>0.000000</td>\n",
       "    </tr>\n",
       "    <tr>\n",
       "      <th>75%</th>\n",
       "      <td>3000.250000</td>\n",
       "      <td>49.000000</td>\n",
       "      <td>0.000000</td>\n",
       "      <td>1619.000000</td>\n",
       "      <td>1.00000</td>\n",
       "      <td>0.000000</td>\n",
       "      <td>22.000000</td>\n",
       "      <td>3.000000</td>\n",
       "      <td>-1.000000</td>\n",
       "      <td>0.000000</td>\n",
       "      <td>1.000000</td>\n",
       "    </tr>\n",
       "    <tr>\n",
       "      <th>max</th>\n",
       "      <td>4000.000000</td>\n",
       "      <td>95.000000</td>\n",
       "      <td>1.000000</td>\n",
       "      <td>98417.000000</td>\n",
       "      <td>1.00000</td>\n",
       "      <td>1.000000</td>\n",
       "      <td>31.000000</td>\n",
       "      <td>43.000000</td>\n",
       "      <td>854.000000</td>\n",
       "      <td>58.000000</td>\n",
       "      <td>1.000000</td>\n",
       "    </tr>\n",
       "  </tbody>\n",
       "</table>\n",
       "</div>"
      ],
      "text/plain": [
       "                Id          Age      Default       Balance  HHInsurance  \\\n",
       "count  4000.000000  4000.000000  4000.000000   4000.000000   4000.00000   \n",
       "mean   2000.500000    41.214750     0.014500   1532.937250      0.49275   \n",
       "std    1154.844867    11.550194     0.119555   3511.452489      0.50001   \n",
       "min       1.000000    18.000000     0.000000  -3058.000000      0.00000   \n",
       "25%    1000.750000    32.000000     0.000000    111.000000      0.00000   \n",
       "50%    2000.500000    39.000000     0.000000    551.500000      0.00000   \n",
       "75%    3000.250000    49.000000     0.000000   1619.000000      1.00000   \n",
       "max    4000.000000    95.000000     1.000000  98417.000000      1.00000   \n",
       "\n",
       "           CarLoan  LastContactDay  NoOfContacts   DaysPassed  PrevAttempts  \\\n",
       "count  4000.000000     4000.000000   4000.000000  4000.000000   4000.000000   \n",
       "mean      0.133000       15.721250      2.607250    48.706500      0.717500   \n",
       "std       0.339617        8.425307      3.064204   106.685385      2.078647   \n",
       "min       0.000000        1.000000      1.000000    -1.000000      0.000000   \n",
       "25%       0.000000        8.000000      1.000000    -1.000000      0.000000   \n",
       "50%       0.000000       16.000000      2.000000    -1.000000      0.000000   \n",
       "75%       0.000000       22.000000      3.000000    -1.000000      0.000000   \n",
       "max       1.000000       31.000000     43.000000   854.000000     58.000000   \n",
       "\n",
       "       CarInsurance  \n",
       "count   4000.000000  \n",
       "mean       0.401000  \n",
       "std        0.490162  \n",
       "min        0.000000  \n",
       "25%        0.000000  \n",
       "50%        0.000000  \n",
       "75%        1.000000  \n",
       "max        1.000000  "
      ]
     },
     "execution_count": 4,
     "metadata": {},
     "output_type": "execute_result"
    }
   ],
   "source": [
    "data.describe()"
   ]
  },
  {
   "cell_type": "code",
   "execution_count": 5,
   "id": "2a36282a",
   "metadata": {},
   "outputs": [
    {
     "data": {
      "text/plain": [
       "(4000, 18)"
      ]
     },
     "execution_count": 5,
     "metadata": {},
     "output_type": "execute_result"
    }
   ],
   "source": [
    "# drop id, it is just a number given to identify each customer\n",
    "data.drop('Id', axis=1, inplace=True)\n",
    "\n",
    "data.shape"
   ]
  },
  {
   "cell_type": "markdown",
   "id": "223545c5",
   "metadata": {},
   "source": [
    "The dataset contains 4000 rows, that is, customers, and 19 columns, i.e., variables. \n",
    "The variable 'Id' is deleted as, it is just a number given to identify each customer.\n",
    "\n",
    "So, 17 are predictive variables and 1 is the target variable : 'CarInsurance'.\n",
    "\n",
    "## Analysis\n",
    "\n",
    "**The following are analysed:**\n",
    "\n",
    "1. The target variable\n",
    "2. Variable types (categorical and numerical)\n",
    "3. Missing data \n",
    "4. Numerical variables\n",
    "    - Discrete\n",
    "    - Continuous\n",
    "    - Distributions\n",
    "    - Transformations\n",
    "\n",
    "5. Categorical variables\n",
    "    - Cardinality\n",
    "    - Rare Labels\n",
    "    \n",
    "6. Temporal variables\n",
    "7. Correlation\n",
    "\n",
    "\n",
    "## Target variable"
   ]
  },
  {
   "cell_type": "code",
   "execution_count": 6,
   "id": "1db33017",
   "metadata": {},
   "outputs": [
    {
     "data": {
      "text/plain": [
       "0    2396\n",
       "1    1604\n",
       "Name: CarInsurance, dtype: int64"
      ]
     },
     "execution_count": 6,
     "metadata": {},
     "output_type": "execute_result"
    }
   ],
   "source": [
    "# target vaiable value counts\n",
    "data[\"CarInsurance\"].value_counts()"
   ]
  },
  {
   "cell_type": "code",
   "execution_count": 7,
   "id": "8aa4eff4",
   "metadata": {},
   "outputs": [
    {
     "data": {
      "image/png": "[encoded data removed]",
      "text/plain": [
       "<Figure size 432x288 with 1 Axes>"
      ]
     },
     "metadata": {
      "needs_background": "light"
     },
     "output_type": "display_data"
    }
   ],
   "source": [
    "# countplot to see the CarInsurance counts\n",
    "sns.countplot(x = \"CarInsurance\", data = data)\n",
    "plt.show()"
   ]
  },
  {
   "cell_type": "markdown",
   "id": "f23af492",
   "metadata": {},
   "source": [
    "The target vaiable is binary. Count of not having a car insurance (2396) is higher than count of having a car insurance (1604).\n",
    "The dataset is slightly imbalanced, which can be ignored.\n",
    "\n",
    "## Variable Types\n",
    "\n",
    "Identifying the categorical and numerical variables"
   ]
  },
  {
   "cell_type": "code",
   "execution_count": 8,
   "id": "8ea7bab2",
   "metadata": {},
   "outputs": [
    {
     "name": "stdout",
     "output_type": "stream",
     "text": [
      "<class 'pandas.core.frame.DataFrame'>\n",
      "RangeIndex: 4000 entries, 0 to 3999\n",
      "Data columns (total 18 columns):\n",
      " #   Column            Non-Null Count  Dtype \n",
      "---  ------            --------------  ----- \n",
      " 0   Age               4000 non-null   int64 \n",
      " 1   Job               3981 non-null   object\n",
      " 2   Marital           4000 non-null   object\n",
      " 3   Education         3831 non-null   object\n",
      " 4   Default           4000 non-null   int64 \n",
      " 5   Balance           4000 non-null   int64 \n",
      " 6   HHInsurance       4000 non-null   int64 \n",
      " 7   CarLoan           4000 non-null   int64 \n",
      " 8   Communication     3098 non-null   object\n",
      " 9   LastContactDay    4000 non-null   int64 \n",
      " 10  LastContactMonth  4000 non-null   object\n",
      " 11  NoOfContacts      4000 non-null   int64 \n",
      " 12  DaysPassed        4000 non-null   int64 \n",
      " 13  PrevAttempts      4000 non-null   int64 \n",
      " 14  Outcome           958 non-null    object\n",
      " 15  CallStart         4000 non-null   object\n",
      " 16  CallEnd           4000 non-null   object\n",
      " 17  CarInsurance      4000 non-null   int64 \n",
      "dtypes: int64(10), object(8)\n",
      "memory usage: 562.6+ KB\n"
     ]
    }
   ],
   "source": [
    "data.info()"
   ]
  },
  {
   "cell_type": "code",
   "execution_count": 9,
   "id": "7fdc9820",
   "metadata": {},
   "outputs": [
    {
     "data": {
      "text/plain": [
       "['Job',\n",
       " 'Marital',\n",
       " 'Education',\n",
       " 'Communication',\n",
       " 'LastContactMonth',\n",
       " 'Outcome',\n",
       " 'CallStart',\n",
       " 'CallEnd']"
      ]
     },
     "execution_count": 9,
     "metadata": {},
     "output_type": "execute_result"
    }
   ],
   "source": [
    "# Categorical vaiables\n",
    "cat_vars = [var for var in data.columns if data[var].dtype == 'O']\n",
    "\n",
    "cat_vars"
   ]
  },
  {
   "cell_type": "code",
   "execution_count": 10,
   "id": "d6f39e00",
   "metadata": {},
   "outputs": [
    {
     "data": {
      "text/plain": [
       "['Age',\n",
       " 'Default',\n",
       " 'Balance',\n",
       " 'HHInsurance',\n",
       " 'CarLoan',\n",
       " 'LastContactDay',\n",
       " 'NoOfContacts',\n",
       " 'DaysPassed',\n",
       " 'PrevAttempts']"
      ]
     },
     "execution_count": 10,
     "metadata": {},
     "output_type": "execute_result"
    }
   ],
   "source": [
    "# Numeric variables\n",
    "num_vars = [\n",
    "    var for var in data.columns if var not in cat_vars and var != 'CarInsurance'\n",
    "]\n",
    "\n",
    "num_vars"
   ]
  },
  {
   "cell_type": "markdown",
   "id": "a7997c75",
   "metadata": {},
   "source": [
    "## Missing Values"
   ]
  },
  {
   "cell_type": "code",
   "execution_count": 11,
   "id": "44f7516e",
   "metadata": {},
   "outputs": [
    {
     "data": {
      "text/plain": [
       "Outcome          76.050\n",
       "Communication    22.550\n",
       "Education         4.225\n",
       "Job               0.475\n",
       "dtype: float64"
      ]
     },
     "execution_count": 11,
     "metadata": {},
     "output_type": "execute_result"
    }
   ],
   "source": [
    "# list of the variables that contain missing values\n",
    "vars_with_na = [ var for var in data.columns if data[var].isnull().sum() > 0 ]\n",
    "\n",
    "# percentage of missing values ordered by % of missing data\n",
    "data[vars_with_na].isnull().mean().sort_values(ascending=False)* 100"
   ]
  },
  {
   "cell_type": "markdown",
   "id": "ab7ef839",
   "metadata": {},
   "source": [
    "Dataset contains variable 'outcome' with a big proportion of missing values. And some other variables with a small percentage of missing observations.\n",
    "\n",
    "This means that to train a machine learning model with this data set, imputation of missing data in these variables is needed. The vaiable 'Outcome' will be  deleted from the data set as imputaion of such higer number (76%) does not make any sense.\n",
    "\n",
    "For 'Communication' missing values will be replaced with the string \"missing\" as it has 22.6% missing values and replacing such higer percentage with mode value can have bias in the model. So a new categori \"missing\" is considered for this."
   ]
  },
  {
   "cell_type": "code",
   "execution_count": 12,
   "id": "fcbdb028",
   "metadata": {},
   "outputs": [
    {
     "name": "stdout",
     "output_type": "stream",
     "text": [
      "Number of categorical variables with na:  4\n",
      "Number of numerical variables with na:  0\n"
     ]
    }
   ],
   "source": [
    "# determine which variables, from those with missing data,\n",
    "# are numerical and which are categorical\n",
    "cat_na = [var for var in cat_vars if var in vars_with_na]\n",
    "num_na = [var for var in num_vars if var in vars_with_na]\n",
    "\n",
    "print('Number of categorical variables with na: ', len(cat_na))\n",
    "print('Number of numerical variables with na: ', len(num_na))"
   ]
  },
  {
   "cell_type": "markdown",
   "id": "e95d6984",
   "metadata": {},
   "source": [
    "There are only categorical missing variables present here.\n",
    "Categorical vaiables missing data  will be replaced with the most frequent category(only  for variables that contain fewer observations without values).\n",
    "\n",
    "## Numerical variables"
   ]
  },
  {
   "cell_type": "code",
   "execution_count": 13,
   "id": "13b7095f",
   "metadata": {},
   "outputs": [
    {
     "name": "stdout",
     "output_type": "stream",
     "text": [
      "Number of numerical variables:  9\n"
     ]
    },
    {
     "data": {
      "text/html": [
       "<div>\n",
       "<style scoped>\n",
       "    .dataframe tbody tr th:only-of-type {\n",
       "        vertical-align: middle;\n",
       "    }\n",
       "\n",
       "    .dataframe tbody tr th {\n",
       "        vertical-align: top;\n",
       "    }\n",
       "\n",
       "    .dataframe thead th {\n",
       "        text-align: right;\n",
       "    }\n",
       "</style>\n",
       "<table border=\"1\" class=\"dataframe\">\n",
       "  <thead>\n",
       "    <tr style=\"text-align: right;\">\n",
       "      <th></th>\n",
       "      <th>Age</th>\n",
       "      <th>Default</th>\n",
       "      <th>Balance</th>\n",
       "      <th>HHInsurance</th>\n",
       "      <th>CarLoan</th>\n",
       "      <th>LastContactDay</th>\n",
       "      <th>NoOfContacts</th>\n",
       "      <th>DaysPassed</th>\n",
       "      <th>PrevAttempts</th>\n",
       "    </tr>\n",
       "  </thead>\n",
       "  <tbody>\n",
       "    <tr>\n",
       "      <th>0</th>\n",
       "      <td>32</td>\n",
       "      <td>0</td>\n",
       "      <td>1218</td>\n",
       "      <td>1</td>\n",
       "      <td>0</td>\n",
       "      <td>28</td>\n",
       "      <td>2</td>\n",
       "      <td>-1</td>\n",
       "      <td>0</td>\n",
       "    </tr>\n",
       "    <tr>\n",
       "      <th>1</th>\n",
       "      <td>32</td>\n",
       "      <td>0</td>\n",
       "      <td>1156</td>\n",
       "      <td>1</td>\n",
       "      <td>0</td>\n",
       "      <td>26</td>\n",
       "      <td>5</td>\n",
       "      <td>-1</td>\n",
       "      <td>0</td>\n",
       "    </tr>\n",
       "    <tr>\n",
       "      <th>2</th>\n",
       "      <td>29</td>\n",
       "      <td>0</td>\n",
       "      <td>637</td>\n",
       "      <td>1</td>\n",
       "      <td>0</td>\n",
       "      <td>3</td>\n",
       "      <td>1</td>\n",
       "      <td>119</td>\n",
       "      <td>1</td>\n",
       "    </tr>\n",
       "    <tr>\n",
       "      <th>3</th>\n",
       "      <td>25</td>\n",
       "      <td>0</td>\n",
       "      <td>373</td>\n",
       "      <td>1</td>\n",
       "      <td>0</td>\n",
       "      <td>11</td>\n",
       "      <td>2</td>\n",
       "      <td>-1</td>\n",
       "      <td>0</td>\n",
       "    </tr>\n",
       "    <tr>\n",
       "      <th>4</th>\n",
       "      <td>30</td>\n",
       "      <td>0</td>\n",
       "      <td>2694</td>\n",
       "      <td>0</td>\n",
       "      <td>0</td>\n",
       "      <td>3</td>\n",
       "      <td>1</td>\n",
       "      <td>-1</td>\n",
       "      <td>0</td>\n",
       "    </tr>\n",
       "  </tbody>\n",
       "</table>\n",
       "</div>"
      ],
      "text/plain": [
       "   Age  Default  Balance  HHInsurance  CarLoan  LastContactDay  NoOfContacts  \\\n",
       "0   32        0     1218            1        0              28             2   \n",
       "1   32        0     1156            1        0              26             5   \n",
       "2   29        0      637            1        0               3             1   \n",
       "3   25        0      373            1        0              11             2   \n",
       "4   30        0     2694            0        0               3             1   \n",
       "\n",
       "   DaysPassed  PrevAttempts  \n",
       "0          -1             0  \n",
       "1          -1             0  \n",
       "2         119             1  \n",
       "3          -1             0  \n",
       "4          -1             0  "
      ]
     },
     "execution_count": 13,
     "metadata": {},
     "output_type": "execute_result"
    }
   ],
   "source": [
    "print('Number of numerical variables: ', len(num_vars))\n",
    "\n",
    "# visualise the numerical variables\n",
    "data[num_vars].head()"
   ]
  },
  {
   "cell_type": "markdown",
   "id": "3e305cd4",
   "metadata": {},
   "source": [
    "### Discrete variables \n",
    "Discrete, i.e., shows a finite number of values."
   ]
  },
  {
   "cell_type": "code",
   "execution_count": 14,
   "id": "a4e13f59",
   "metadata": {},
   "outputs": [
    {
     "name": "stdout",
     "output_type": "stream",
     "text": [
      "Number of discrete variables:  4\n"
     ]
    }
   ],
   "source": [
    "# list of discrete variables\n",
    "discrete_vars = [var for var in num_vars if len(\n",
    "    data[var].unique()) < 20 ]\n",
    "\n",
    "discrete_vars = discrete_vars + ['LastContactDay']\n",
    "print('Number of discrete variables: ', len(discrete_vars))"
   ]
  },
  {
   "cell_type": "code",
   "execution_count": 15,
   "id": "702c9cd8",
   "metadata": {},
   "outputs": [
    {
     "data": {
      "text/html": [
       "<div>\n",
       "<style scoped>\n",
       "    .dataframe tbody tr th:only-of-type {\n",
       "        vertical-align: middle;\n",
       "    }\n",
       "\n",
       "    .dataframe tbody tr th {\n",
       "        vertical-align: top;\n",
       "    }\n",
       "\n",
       "    .dataframe thead th {\n",
       "        text-align: right;\n",
       "    }\n",
       "</style>\n",
       "<table border=\"1\" class=\"dataframe\">\n",
       "  <thead>\n",
       "    <tr style=\"text-align: right;\">\n",
       "      <th></th>\n",
       "      <th>Default</th>\n",
       "      <th>HHInsurance</th>\n",
       "      <th>CarLoan</th>\n",
       "      <th>LastContactDay</th>\n",
       "    </tr>\n",
       "  </thead>\n",
       "  <tbody>\n",
       "    <tr>\n",
       "      <th>0</th>\n",
       "      <td>0</td>\n",
       "      <td>1</td>\n",
       "      <td>0</td>\n",
       "      <td>28</td>\n",
       "    </tr>\n",
       "    <tr>\n",
       "      <th>1</th>\n",
       "      <td>0</td>\n",
       "      <td>1</td>\n",
       "      <td>0</td>\n",
       "      <td>26</td>\n",
       "    </tr>\n",
       "    <tr>\n",
       "      <th>2</th>\n",
       "      <td>0</td>\n",
       "      <td>1</td>\n",
       "      <td>0</td>\n",
       "      <td>3</td>\n",
       "    </tr>\n",
       "    <tr>\n",
       "      <th>3</th>\n",
       "      <td>0</td>\n",
       "      <td>1</td>\n",
       "      <td>0</td>\n",
       "      <td>11</td>\n",
       "    </tr>\n",
       "    <tr>\n",
       "      <th>4</th>\n",
       "      <td>0</td>\n",
       "      <td>0</td>\n",
       "      <td>0</td>\n",
       "      <td>3</td>\n",
       "    </tr>\n",
       "  </tbody>\n",
       "</table>\n",
       "</div>"
      ],
      "text/plain": [
       "   Default  HHInsurance  CarLoan  LastContactDay\n",
       "0        0            1        0              28\n",
       "1        0            1        0              26\n",
       "2        0            1        0               3\n",
       "3        0            1        0              11\n",
       "4        0            0        0               3"
      ]
     },
     "execution_count": 15,
     "metadata": {},
     "output_type": "execute_result"
    }
   ],
   "source": [
    "# visualise the discrete variables\n",
    "data[discrete_vars].head()"
   ]
  },
  {
   "cell_type": "code",
   "execution_count": 16,
   "id": "dac0e45d",
   "metadata": {},
   "outputs": [
    {
     "data": {
      "image/png": "[encoded data removed]",
      "text/plain": [
       "<Figure size 432x288 with 1 Axes>"
      ]
     },
     "metadata": {
      "needs_background": "light"
     },
     "output_type": "display_data"
    },
    {
     "data": {
      "image/png": "[encoded data removed]",
      "text/plain": [
       "<Figure size 432x288 with 1 Axes>"
      ]
     },
     "metadata": {
      "needs_background": "light"
     },
     "output_type": "display_data"
    },
    {
     "data": {
      "image/png": "[encoded data removed]",
      "text/plain": [
       "<Figure size 432x288 with 1 Axes>"
      ]
     },
     "metadata": {
      "needs_background": "light"
     },
     "output_type": "display_data"
    },
    {
     "data": {
      "image/png": "[encoded data removed]",
      "text/plain": [
       "<Figure size 432x288 with 1 Axes>"
      ]
     },
     "metadata": {
      "needs_background": "light"
     },
     "output_type": "display_data"
    }
   ],
   "source": [
    "# countplot for the discreate vaiables for the two different target classes\n",
    "for var in discrete_vars:\n",
    "    sns.countplot(x=var, hue=\"CarInsurance\", data=data)\n",
    "    plt.show()"
   ]
  },
  {
   "cell_type": "markdown",
   "id": "54558cdc",
   "metadata": {},
   "source": [
    "The above plots show:\n",
    "\n",
    "   * Most non defaulters likely to have car insurance\n",
    "   * More clients with house insurance most likely to not have car insurance\n",
    "   * More clients without a car loan likely to have car insurance\n",
    "   * Can't conclude anything based on the LastContactDay\n",
    "   \n",
    "### Continuous variables\n"
   ]
  },
  {
   "cell_type": "code",
   "execution_count": 17,
   "id": "15dab2a8",
   "metadata": {},
   "outputs": [
    {
     "name": "stdout",
     "output_type": "stream",
     "text": [
      "Number of continuous variables:  5\n"
     ]
    }
   ],
   "source": [
    "# list of continuous variables\n",
    "cont_vars = [\n",
    "    var for var in num_vars if var not in discrete_vars]\n",
    "\n",
    "print('Number of continuous variables: ', len(cont_vars))"
   ]
  },
  {
   "cell_type": "code",
   "execution_count": 18,
   "id": "04a9c62d",
   "metadata": {},
   "outputs": [
    {
     "data": {
      "text/html": [
       "<div>\n",
       "<style scoped>\n",
       "    .dataframe tbody tr th:only-of-type {\n",
       "        vertical-align: middle;\n",
       "    }\n",
       "\n",
       "    .dataframe tbody tr th {\n",
       "        vertical-align: top;\n",
       "    }\n",
       "\n",
       "    .dataframe thead th {\n",
       "        text-align: right;\n",
       "    }\n",
       "</style>\n",
       "<table border=\"1\" class=\"dataframe\">\n",
       "  <thead>\n",
       "    <tr style=\"text-align: right;\">\n",
       "      <th></th>\n",
       "      <th>Age</th>\n",
       "      <th>Balance</th>\n",
       "      <th>NoOfContacts</th>\n",
       "      <th>DaysPassed</th>\n",
       "      <th>PrevAttempts</th>\n",
       "    </tr>\n",
       "  </thead>\n",
       "  <tbody>\n",
       "    <tr>\n",
       "      <th>0</th>\n",
       "      <td>32</td>\n",
       "      <td>1218</td>\n",
       "      <td>2</td>\n",
       "      <td>-1</td>\n",
       "      <td>0</td>\n",
       "    </tr>\n",
       "    <tr>\n",
       "      <th>1</th>\n",
       "      <td>32</td>\n",
       "      <td>1156</td>\n",
       "      <td>5</td>\n",
       "      <td>-1</td>\n",
       "      <td>0</td>\n",
       "    </tr>\n",
       "    <tr>\n",
       "      <th>2</th>\n",
       "      <td>29</td>\n",
       "      <td>637</td>\n",
       "      <td>1</td>\n",
       "      <td>119</td>\n",
       "      <td>1</td>\n",
       "    </tr>\n",
       "    <tr>\n",
       "      <th>3</th>\n",
       "      <td>25</td>\n",
       "      <td>373</td>\n",
       "      <td>2</td>\n",
       "      <td>-1</td>\n",
       "      <td>0</td>\n",
       "    </tr>\n",
       "    <tr>\n",
       "      <th>4</th>\n",
       "      <td>30</td>\n",
       "      <td>2694</td>\n",
       "      <td>1</td>\n",
       "      <td>-1</td>\n",
       "      <td>0</td>\n",
       "    </tr>\n",
       "  </tbody>\n",
       "</table>\n",
       "</div>"
      ],
      "text/plain": [
       "   Age  Balance  NoOfContacts  DaysPassed  PrevAttempts\n",
       "0   32     1218             2          -1             0\n",
       "1   32     1156             5          -1             0\n",
       "2   29      637             1         119             1\n",
       "3   25      373             2          -1             0\n",
       "4   30     2694             1          -1             0"
      ]
     },
     "execution_count": 18,
     "metadata": {},
     "output_type": "execute_result"
    }
   ],
   "source": [
    "# visualise the continuous variables\n",
    "data[cont_vars].head()"
   ]
  },
  {
   "cell_type": "code",
   "execution_count": 19,
   "id": "d65bc305",
   "metadata": {},
   "outputs": [
    {
     "data": {
      "image/png": "[encoded data removed]",
      "text/plain": [
       "<Figure size 434.25x360 with 1 Axes>"
      ]
     },
     "metadata": {
      "needs_background": "light"
     },
     "output_type": "display_data"
    },
    {
     "data": {
      "image/png": "[encoded data removed]",
      "text/plain": [
       "<Figure size 434.25x360 with 1 Axes>"
      ]
     },
     "metadata": {
      "needs_background": "light"
     },
     "output_type": "display_data"
    },
    {
     "data": {
      "image/png": "[encoded data removed]",
      "text/plain": [
       "<Figure size 434.25x360 with 1 Axes>"
      ]
     },
     "metadata": {
      "needs_background": "light"
     },
     "output_type": "display_data"
    },
    {
     "data": {
      "image/png": "[encoded data removed]",
      "text/plain": [
       "<Figure size 434.25x360 with 1 Axes>"
      ]
     },
     "metadata": {
      "needs_background": "light"
     },
     "output_type": "display_data"
    },
    {
     "data": {
      "image/png": "[encoded data removed]",
      "text/plain": [
       "<Figure size 434.25x360 with 1 Axes>"
      ]
     },
     "metadata": {
      "needs_background": "light"
     },
     "output_type": "display_data"
    }
   ],
   "source": [
    "# distribution plots for the continuous variables based on carInsurance\n",
    "for var in cont_vars:  \n",
    "    sns.displot( x=var, data=data, hue=\"CarInsurance\", bins=30, multiple=\"stack\")\n",
    "    plt.show()"
   ]
  },
  {
   "cell_type": "code",
   "execution_count": 20,
   "id": "12d1e614",
   "metadata": {},
   "outputs": [
    {
     "data": {
      "image/png": "[encoded data removed]",
      "text/plain": [
       "<Figure size 432x288 with 1 Axes>"
      ]
     },
     "metadata": {
      "needs_background": "light"
     },
     "output_type": "display_data"
    },
    {
     "data": {
      "image/png": "[encoded data removed]",
      "text/plain": [
       "<Figure size 432x288 with 1 Axes>"
      ]
     },
     "metadata": {
      "needs_background": "light"
     },
     "output_type": "display_data"
    },
    {
     "data": {
      "image/png": "[encoded data removed]",
      "text/plain": [
       "<Figure size 432x288 with 1 Axes>"
      ]
     },
     "metadata": {
      "needs_background": "light"
     },
     "output_type": "display_data"
    },
    {
     "data": {
      "image/png": "[encoded data removed]",
      "text/plain": [
       "<Figure size 432x288 with 1 Axes>"
      ]
     },
     "metadata": {
      "needs_background": "light"
     },
     "output_type": "display_data"
    },
    {
     "data": {
      "image/png": "[encoded data removed]",
      "text/plain": [
       "<Figure size 432x288 with 1 Axes>"
      ]
     },
     "metadata": {
      "needs_background": "light"
     },
     "output_type": "display_data"
    }
   ],
   "source": [
    "# boxplots for the continuous variables based on carInsurance\n",
    "for var in cont_vars:  \n",
    "    sns.boxplot( y=var, x=\"CarInsurance\", data=data)\n",
    "    plt.show()"
   ]
  },
  {
   "cell_type": "markdown",
   "id": "a610b3cf",
   "metadata": {},
   "source": [
    "From the above plots \n",
    "\n",
    "   * Age of the client does not make any difference in car insurance. Majority of the clients who have car insurance and who do not have car insurance are between age 30 to 50.\n",
    "   * The other variables also do not make any difference in this case.\n",
    "   \n",
    "### Distributions"
   ]
  },
  {
   "cell_type": "code",
   "execution_count": 21,
   "id": "495032e7",
   "metadata": {},
   "outputs": [
    {
     "data": {
      "image/png": "[encoded data removed]",
      "text/plain": [
       "<Figure size 1080x1080 with 6 Axes>"
      ]
     },
     "metadata": {
      "needs_background": "light"
     },
     "output_type": "display_data"
    }
   ],
   "source": [
    "# histograms for all continuous variables\n",
    "data[cont_vars].hist(bins=30, figsize=(15,15))\n",
    "plt.show()"
   ]
  },
  {
   "cell_type": "markdown",
   "id": "ed6fa232",
   "metadata": {},
   "source": [
    "The variables are not normally distributed. And there are a few that are extremely skewed like 'NoOfContacts', 'DaysPassed', 'PrevAttempts' .\n",
    "\n",
    "Sometimes, transforming the variables to improve the value spread, improves the model performance. But it is unlikely that a transformation will help change the distribution of the super skewed variables dramatically.\n",
    "\n",
    "Binary transformation will be used for variables like 'NoOfContacts', 'DaysPassed', 'PrevAttempts'."
   ]
  },
  {
   "cell_type": "code",
   "execution_count": 22,
   "id": "37833b95",
   "metadata": {},
   "outputs": [],
   "source": [
    "# list with the super skewed variables\n",
    "skewed = ['NoOfContacts', 'DaysPassed', 'PrevAttempts']"
   ]
  },
  {
   "cell_type": "code",
   "execution_count": 23,
   "id": "32ca08e6",
   "metadata": {},
   "outputs": [
    {
     "data": {
      "text/plain": [
       "['Age', 'Balance']"
      ]
     },
     "execution_count": 23,
     "metadata": {},
     "output_type": "execute_result"
    }
   ],
   "source": [
    "# remaining continuous variables\n",
    "# list of continuous variables\n",
    "cont_vars = [\n",
    "    var for var in cont_vars if var not in skewed]\n",
    "cont_vars"
   ]
  },
  {
   "cell_type": "markdown",
   "id": "2e326c27",
   "metadata": {},
   "source": [
    "### Transformations"
   ]
  },
  {
   "cell_type": "code",
   "execution_count": 24,
   "id": "41943519",
   "metadata": {},
   "outputs": [
    {
     "data": {
      "image/png": "[encoded data removed]",
      "text/plain": [
       "<Figure size 432x288 with 1 Axes>"
      ]
     },
     "metadata": {
      "needs_background": "light"
     },
     "output_type": "display_data"
    }
   ],
   "source": [
    "# analysing the distributions of Age\n",
    "# after applying a logarithmic transformation\n",
    "\n",
    "tmp = data.copy()\n",
    "\n",
    "for var in ['Age']:\n",
    "\n",
    "    # transform the variable with logarithm\n",
    "    tmp[var] = np.log(data[var])\n",
    "    \n",
    "    # histogram of transformed variable\n",
    "    plt.title(var)\n",
    "    tmp[var].hist(bins=30)\n",
    "    plt.show()\n",
    "    "
   ]
  },
  {
   "cell_type": "code",
   "execution_count": 25,
   "id": "ef25f9a3",
   "metadata": {},
   "outputs": [
    {
     "data": {
      "image/png": "[encoded data removed]",
      "text/plain": [
       "<Figure size 432x288 with 1 Axes>"
      ]
     },
     "metadata": {
      "needs_background": "light"
     },
     "output_type": "display_data"
    },
    {
     "data": {
      "image/png": "[encoded data removed]",
      "text/plain": [
       "<Figure size 432x288 with 1 Axes>"
      ]
     },
     "metadata": {
      "needs_background": "light"
     },
     "output_type": "display_data"
    }
   ],
   "source": [
    "# Let's go ahead and analyse the distributions of the variables\n",
    "# after applying a yeo-johnson transformation\n",
    "\n",
    "# temporary copy of the data\n",
    "tmp = data.copy()\n",
    "\n",
    "for var in cont_vars:\n",
    "\n",
    "    # transform the variable - yeo-johsnon\n",
    "    tmp[var], param = stats.yeojohnson(data[var])\n",
    "\n",
    "    # histogram of transformed variable\n",
    "    plt.title(var)\n",
    "    tmp[var].hist(bins=30)\n",
    "    plt.show()"
   ]
  },
  {
   "cell_type": "markdown",
   "id": "26dd1ee9",
   "metadata": {},
   "source": [
    "With the above transformations the  distribution of 'Age' has not improved, but with yeo-johnson transformation the distribution of Balance has become approximately normal.\n",
    "\n",
    "The yeo-johnson transformation will be applied to 'Balance' for creating model. "
   ]
  },
  {
   "cell_type": "markdown",
   "id": "8b9543b9",
   "metadata": {},
   "source": [
    "## Categorical Variables"
   ]
  },
  {
   "cell_type": "code",
   "execution_count": 26,
   "id": "d745fe36",
   "metadata": {},
   "outputs": [
    {
     "name": "stdout",
     "output_type": "stream",
     "text": [
      "Number of categorical variables:  8\n"
     ]
    }
   ],
   "source": [
    "print('Number of categorical variables: ', len(cat_vars))"
   ]
  },
  {
   "cell_type": "code",
   "execution_count": 27,
   "id": "2bd46447",
   "metadata": {},
   "outputs": [
    {
     "data": {
      "text/html": [
       "<div>\n",
       "<style scoped>\n",
       "    .dataframe tbody tr th:only-of-type {\n",
       "        vertical-align: middle;\n",
       "    }\n",
       "\n",
       "    .dataframe tbody tr th {\n",
       "        vertical-align: top;\n",
       "    }\n",
       "\n",
       "    .dataframe thead th {\n",
       "        text-align: right;\n",
       "    }\n",
       "</style>\n",
       "<table border=\"1\" class=\"dataframe\">\n",
       "  <thead>\n",
       "    <tr style=\"text-align: right;\">\n",
       "      <th></th>\n",
       "      <th>Job</th>\n",
       "      <th>Marital</th>\n",
       "      <th>Education</th>\n",
       "      <th>Communication</th>\n",
       "      <th>LastContactMonth</th>\n",
       "      <th>Outcome</th>\n",
       "      <th>CallStart</th>\n",
       "      <th>CallEnd</th>\n",
       "    </tr>\n",
       "  </thead>\n",
       "  <tbody>\n",
       "    <tr>\n",
       "      <th>0</th>\n",
       "      <td>management</td>\n",
       "      <td>single</td>\n",
       "      <td>tertiary</td>\n",
       "      <td>telephone</td>\n",
       "      <td>jan</td>\n",
       "      <td>NaN</td>\n",
       "      <td>13:45:20</td>\n",
       "      <td>13:46:30</td>\n",
       "    </tr>\n",
       "    <tr>\n",
       "      <th>1</th>\n",
       "      <td>blue-collar</td>\n",
       "      <td>married</td>\n",
       "      <td>primary</td>\n",
       "      <td>NaN</td>\n",
       "      <td>may</td>\n",
       "      <td>NaN</td>\n",
       "      <td>14:49:03</td>\n",
       "      <td>14:52:08</td>\n",
       "    </tr>\n",
       "    <tr>\n",
       "      <th>2</th>\n",
       "      <td>management</td>\n",
       "      <td>single</td>\n",
       "      <td>tertiary</td>\n",
       "      <td>cellular</td>\n",
       "      <td>jun</td>\n",
       "      <td>failure</td>\n",
       "      <td>16:30:24</td>\n",
       "      <td>16:36:04</td>\n",
       "    </tr>\n",
       "    <tr>\n",
       "      <th>3</th>\n",
       "      <td>student</td>\n",
       "      <td>single</td>\n",
       "      <td>primary</td>\n",
       "      <td>cellular</td>\n",
       "      <td>may</td>\n",
       "      <td>NaN</td>\n",
       "      <td>12:06:43</td>\n",
       "      <td>12:20:22</td>\n",
       "    </tr>\n",
       "    <tr>\n",
       "      <th>4</th>\n",
       "      <td>management</td>\n",
       "      <td>married</td>\n",
       "      <td>tertiary</td>\n",
       "      <td>cellular</td>\n",
       "      <td>jun</td>\n",
       "      <td>NaN</td>\n",
       "      <td>14:35:44</td>\n",
       "      <td>14:38:56</td>\n",
       "    </tr>\n",
       "  </tbody>\n",
       "</table>\n",
       "</div>"
      ],
      "text/plain": [
       "           Job  Marital Education Communication LastContactMonth  Outcome  \\\n",
       "0   management   single  tertiary     telephone              jan      NaN   \n",
       "1  blue-collar  married   primary           NaN              may      NaN   \n",
       "2   management   single  tertiary      cellular              jun  failure   \n",
       "3      student   single   primary      cellular              may      NaN   \n",
       "4   management  married  tertiary      cellular              jun      NaN   \n",
       "\n",
       "  CallStart   CallEnd  \n",
       "0  13:45:20  13:46:30  \n",
       "1  14:49:03  14:52:08  \n",
       "2  16:30:24  16:36:04  \n",
       "3  12:06:43  12:20:22  \n",
       "4  14:35:44  14:38:56  "
      ]
     },
     "execution_count": 27,
     "metadata": {},
     "output_type": "execute_result"
    }
   ],
   "source": [
    "# visualise the values of the categorical variables\n",
    "data[cat_vars].head()"
   ]
  },
  {
   "cell_type": "markdown",
   "id": "f3f9aeac",
   "metadata": {},
   "source": [
    "'Outcome' will be deleted , 'CallStart' and 'CallEnd' time is not supposed to give any information about the car insuarnce but   based on 'CallStart' and 'CallEnd' call duration might be helpful.\n"
   ]
  },
  {
   "cell_type": "code",
   "execution_count": 28,
   "id": "e7e0f50b",
   "metadata": {},
   "outputs": [],
   "source": [
    "# delete Outcome\n",
    "data.drop('Outcome', axis=1, inplace=True)\n",
    "\n",
    "cat_vars = ['Job', 'Marital', 'Education', 'Communication', 'LastContactMonth' ]"
   ]
  },
  {
   "cell_type": "code",
   "execution_count": 29,
   "id": "499de496",
   "metadata": {},
   "outputs": [
    {
     "data": {
      "image/png": "[encoded data removed]",
      "text/plain": [
       "<Figure size 1440x432 with 1 Axes>"
      ]
     },
     "metadata": {
      "needs_background": "light"
     },
     "output_type": "display_data"
    },
    {
     "data": {
      "image/png": "[encoded data removed]",
      "text/plain": [
       "<Figure size 1440x432 with 1 Axes>"
      ]
     },
     "metadata": {
      "needs_background": "light"
     },
     "output_type": "display_data"
    },
    {
     "data": {
      "image/png": "[encoded data removed]",
      "text/plain": [
       "<Figure size 1440x432 with 1 Axes>"
      ]
     },
     "metadata": {
      "needs_background": "light"
     },
     "output_type": "display_data"
    },
    {
     "data": {
      "image/png": "[encoded data removed]",
      "text/plain": [
       "<Figure size 1440x432 with 1 Axes>"
      ]
     },
     "metadata": {
      "needs_background": "light"
     },
     "output_type": "display_data"
    },
    {
     "data": {
      "image/png": "[encoded data removed]",
      "text/plain": [
       "<Figure size 1440x432 with 1 Axes>"
      ]
     },
     "metadata": {
      "needs_background": "light"
     },
     "output_type": "display_data"
    }
   ],
   "source": [
    "#count plots of categorical variables based on 'CarInsuarnce'\n",
    "\n",
    "for var in cat_vars:\n",
    "    plt.figure(figsize=(20,6))\n",
    "    sns.countplot(x=var, hue='CarInsurance', data=data )\n",
    "    plt.show()"
   ]
  },
  {
   "cell_type": "markdown",
   "id": "16d29741",
   "metadata": {},
   "source": [
    "Most of the people who have enrolled for the insurance are working in management or technician jobs.\n",
    "\n",
    "The number of 'unemployed', 'student' and 'retired' members enrolled for the insurance are more than the ones who have rejected it.\n",
    "\n",
    "People who are single have taken the car insurance more than the divorced ones. Married people are highest to reject and accept the insurance, though the rejection proportion is high.\n",
    "\n",
    "People having secondary level of education are the highest to take the car insurance. But, there are more rejectors than enrollers.\n",
    "\n",
    "More people were contacted using 'cellular' communication than 'telephone' but the ratio of acceptance and rejection of car insurance for both type seems similar.\n",
    "\n",
    "Number of people who have been contacted during the months of 'February', 'March', 'April', 'September', 'October' & 'December' have accepted the car insuarnce than rejected it.\n",
    "\n",
    "\n",
    "### Variables Map\n",
    "\n",
    "Variable 'LastContactMonth' needs mapping in spesific order( in the order of the months jan, feb, mar etc.). For the rest of the categorical features order of the mapping is not important."
   ]
  },
  {
   "cell_type": "code",
   "execution_count": 30,
   "id": "7babd55a",
   "metadata": {},
   "outputs": [],
   "source": [
    "# categorical mapping for a specific ordered mapping\n",
    "class Mapper(BaseEstimator, TransformerMixin):\n",
    "\n",
    "    def __init__(self, variables, mappings):\n",
    "\n",
    "        if not isinstance(variables, list):\n",
    "            raise ValueError('variables should be a list')\n",
    "\n",
    "        self.variables = variables\n",
    "        self.mappings = mappings\n",
    "\n",
    "    def fit(self, X, y=None):\n",
    "        # we need the fit statement to accomodate the sklearn pipeline\n",
    "        return self\n",
    "\n",
    "    def transform(self, X):\n",
    "        X = X.copy()\n",
    "        for feature in self.variables:\n",
    "            X[feature] = X[feature].map(self.mappings)\n",
    "\n",
    "        return X"
   ]
  },
  {
   "cell_type": "markdown",
   "id": "3b91d197",
   "metadata": {},
   "source": [
    "### Number of labels: cardinality\n",
    "Evaluate how many different categories are present in each of the variables."
   ]
  },
  {
   "cell_type": "code",
   "execution_count": 31,
   "id": "abe6d9f2",
   "metadata": {},
   "outputs": [
    {
     "data": {
      "image/png": "[encoded data removed]",
      "text/plain": [
       "<Figure size 432x288 with 1 Axes>"
      ]
     },
     "metadata": {
      "needs_background": "light"
     },
     "output_type": "display_data"
    }
   ],
   "source": [
    "data[cat_vars].nunique().sort_values(ascending=False).plot.bar()\n",
    "plt.show()"
   ]
  },
  {
   "cell_type": "markdown",
   "id": "3ec68916",
   "metadata": {},
   "source": [
    "All the categorical variables show low cardinality, this means that they have only few different labels. That is good as cardinality is not a problem here"
   ]
  },
  {
   "cell_type": "markdown",
   "id": "64a0cd3e",
   "metadata": {},
   "source": [
    "### Rare labels:\n",
    "\n",
    "Labels that are present less than 1% in dataset\n",
    "\n",
    "Labels that are under-represented in the dataset tend to cause over-fitting of machine learning models. \n",
    "\n",
    "That is why removal of rare labels is important."
   ]
  },
  {
   "cell_type": "code",
   "execution_count": 32,
   "id": "6411a022",
   "metadata": {},
   "outputs": [],
   "source": [
    "def find_frequent_labels(df, var, rare_perc):\n",
    "    \n",
    "    # function finds the labels that are shared by more than\n",
    "    # a certain % of the passengers in the dataset\n",
    "    \n",
    "    df = df.copy()\n",
    "    \n",
    "    tmp = df.groupby(var)[var].count() / len(df)\n",
    "    \n",
    "    return tmp[tmp > rare_perc].index"
   ]
  },
  {
   "cell_type": "code",
   "execution_count": 33,
   "id": "ccd996a6",
   "metadata": {},
   "outputs": [
    {
     "name": "stdout",
     "output_type": "stream",
     "text": [
      "Index(['admin.', 'blue-collar', 'entrepreneur', 'housemaid', 'management',\n",
      "       'retired', 'self-employed', 'services', 'student', 'technician',\n",
      "       'unemployed'],\n",
      "      dtype='object', name='Job')\n",
      "Index(['divorced', 'married', 'single'], dtype='object', name='Marital')\n",
      "Index(['primary', 'secondary', 'tertiary'], dtype='object', name='Education')\n",
      "Index(['cellular', 'telephone'], dtype='object', name='Communication')\n",
      "Index(['apr', 'aug', 'dec', 'feb', 'jan', 'jul', 'jun', 'mar', 'may', 'nov',\n",
      "       'oct', 'sep'],\n",
      "      dtype='object', name='LastContactMonth')\n"
     ]
    }
   ],
   "source": [
    "for var in cat_vars:\n",
    "    \n",
    "    # find the frequent categories\n",
    "    frequent_ls = find_frequent_labels(data, var, 0.01)\n",
    "    print(frequent_ls)"
   ]
  },
  {
   "cell_type": "markdown",
   "id": "1b231d6c",
   "metadata": {},
   "source": [
    "There is no rare labels found in the categorical variables , all the levels are more than 10% of the dataset"
   ]
  },
  {
   "cell_type": "markdown",
   "id": "a8d15e21",
   "metadata": {},
   "source": [
    "## Temporal Variables\n",
    "\n",
    "'CallStart' and 'CallEnd' time is not supposed to give any information about the car insuarnce but based on 'CallStart' and 'CallEnd' call duration might be helpful."
   ]
  },
  {
   "cell_type": "code",
   "execution_count": 34,
   "id": "abfa98d5",
   "metadata": {},
   "outputs": [],
   "source": [
    "class TemporalVariableTransformer(BaseEstimator, TransformerMixin):\n",
    "    # Temporal Call duration transformer\n",
    "\n",
    "    def __init__(self, variable, ref_variables):\n",
    "        \n",
    "        if not isinstance(ref_variables, list):\n",
    "            raise ValueError('Reference variables should be a list')\n",
    "        \n",
    "        self.variable = variable\n",
    "        self.ref_variables = ref_variables\n",
    "\n",
    "    def fit(self, X, y=None):\n",
    "        # we need this step to fit the sklearn pipeline\n",
    "        return self\n",
    "\n",
    "    def transform(self, X):\n",
    "\n",
    "        # so that we do not over-write the original dataframe\n",
    "        X = X.copy()\n",
    "        \n",
    "        X[self.variable] = (\n",
    "            pd.to_datetime(X[self.ref_variables[1]], format='%H:%M:%S')\n",
    "            - pd.to_datetime(X[self.ref_variables[0]], format='%H:%M:%S')) / np.timedelta64(1,'s')\n",
    "\n",
    "        return X"
   ]
  },
  {
   "cell_type": "code",
   "execution_count": 35,
   "id": "effae771",
   "metadata": {},
   "outputs": [],
   "source": [
    "tmp = data.copy()\n",
    "\n",
    "# Call duration in seconds\n",
    "tmp['CallDuration'] = (\n",
    "    pd.to_datetime(tmp.CallEnd,format='%H:%M:%S')\n",
    "    - pd.to_datetime(tmp.CallStart,format='%H:%M:%S') )  / np.timedelta64(1,'s')\n"
   ]
  },
  {
   "cell_type": "code",
   "execution_count": 36,
   "id": "762c7c0c",
   "metadata": {},
   "outputs": [
    {
     "data": {
      "image/png": "[encoded data removed]",
      "text/plain": [
       "<Figure size 432x288 with 1 Axes>"
      ]
     },
     "metadata": {
      "needs_background": "light"
     },
     "output_type": "display_data"
    }
   ],
   "source": [
    "sns.boxplot(x='CarInsurance', y='CallDuration', data=tmp)\n",
    "plt.show()"
   ]
  },
  {
   "cell_type": "markdown",
   "id": "de8006a1",
   "metadata": {},
   "source": [
    "The above plot shows that with longer call duration there is more liklihood of taking an car insurance."
   ]
  },
  {
   "cell_type": "markdown",
   "id": "6401fa2e",
   "metadata": {},
   "source": [
    "## Correlation"
   ]
  },
  {
   "cell_type": "code",
   "execution_count": 37,
   "id": "00e7af04",
   "metadata": {},
   "outputs": [
    {
     "data": {
      "image/png": "[encoded data removed]",
      "text/plain": [
       "<Figure size 1440x720 with 2 Axes>"
      ]
     },
     "metadata": {
      "needs_background": "light"
     },
     "output_type": "display_data"
    }
   ],
   "source": [
    "plt.figure(figsize= (20,10))\n",
    "sns.heatmap(tmp.corr(), annot=True)\n",
    "plt.show()"
   ]
  },
  {
   "cell_type": "markdown",
   "id": "38e101ad",
   "metadata": {},
   "source": [
    "For the correlation matrix it can be seen that there is no significant high corellation between the features. Correlation should not be a problem in this case."
   ]
  },
  {
   "cell_type": "markdown",
   "id": "66c398a4",
   "metadata": {},
   "source": [
    "# Feature Engineering, Feature Selection and Model Training Using Pipeline\n",
    "\n",
    "For Feature Engineering, Feature Selection and Model Training pipeline is used.\n",
    "\n",
    "## Feature Engineering\n",
    "\n",
    "For featureengineering follwing are tackled:\n",
    "\n",
    "1. Missing values\n",
    "2. Temporal variable\n",
    "3. Non-Gaussian distributed variables\n",
    "4. Categorical variables: convert strings to numbers\n",
    "5. Put the variables in a similar scale\n",
    "\n",
    "## Feature selection\n",
    "\n",
    "Few variables are removed such as 'Id', 'Outcome', CallStart' and 'CallEnd' as stated before.\n",
    "\n",
    "\n",
    "## Model training\n",
    "\n",
    "Different supervised classification models( Logistic_regression, Decision Tree, Random forest, Bagging, XGBoost) are trained to get a better performance for predicting 'CarInsuarance'.\n",
    "\n",
    "### Reproducibility: Setting the seed"
   ]
  },
  {
   "cell_type": "code",
   "execution_count": 38,
   "id": "c307b719",
   "metadata": {},
   "outputs": [],
   "source": [
    "random_state = 11"
   ]
  },
  {
   "cell_type": "code",
   "execution_count": 39,
   "id": "63115025",
   "metadata": {},
   "outputs": [],
   "source": [
    "# target vaiable \n",
    "Y = data[\"CarInsurance\"] \n",
    "\n",
    "# Predictors\n",
    "X = data.drop('CarInsurance', axis=1)"
   ]
  },
  {
   "cell_type": "markdown",
   "id": "0eee4a9b",
   "metadata": {},
   "source": [
    "### Separate dataset into train and test\n",
    "\n",
    "It is important to separate our data intro training and testing set. \n",
    "\n",
    "When engineering features, some techniques learn parameters from data. It is important to learn these parameters only from the train set. This is to avoid over-fitting.\n",
    "\n",
    "Here feature engineering techniques will learn:\n",
    "\n",
    "- mode\n",
    "- category frequency\n",
    "- and category to number mappings\n",
    "\n",
    "from the train set."
   ]
  },
  {
   "cell_type": "code",
   "execution_count": 40,
   "id": "0dbd5553",
   "metadata": {},
   "outputs": [
    {
     "data": {
      "text/plain": [
       "((3200, 16), (800, 16))"
      ]
     },
     "execution_count": 40,
     "metadata": {},
     "output_type": "execute_result"
    }
   ],
   "source": [
    "X_train, X_test, y_train, y_test = train_test_split(\n",
    "    X,  \n",
    "    Y,  \n",
    "    test_size=0.2,  # percentage of obs in validation set\n",
    "    random_state= random_state)  # seed to ensure reproducibility\n",
    "\n",
    "X_train.shape, X_test.shape"
   ]
  },
  {
   "cell_type": "markdown",
   "id": "603756a9",
   "metadata": {},
   "source": [
    "For evaluating the model, accuracy, recall, precision metrics are used. \n",
    "Precision is a measure of result relevancy while recall is measure of how many truly relevant results are returned.\n",
    "\n",
    "High recall value with low precision value retums many results but most of the predicted labels are incorrect when compared to the training lables. \n",
    "High precision with low recall retuns few results, but most of the predicted labels are correct when compared to the training labels.\n",
    "\n",
    "Ideally high precision and high recall will return many results with maximum results label correctly.\n",
    "\n",
    "Along with those roc-auc is also analysed as it is a diagnostic tool for binary classification models. Generally, values between 0.5 to 1.0 are looked after, the higher the value the better the result."
   ]
  },
  {
   "cell_type": "markdown",
   "id": "b7d0cd95",
   "metadata": {},
   "source": [
    "### Configuration"
   ]
  },
  {
   "cell_type": "code",
   "execution_count": 41,
   "id": "1b1ae6f9",
   "metadata": {},
   "outputs": [],
   "source": [
    "# these variables are to calculate the temporal variable, # can be dropped afterwards\n",
    "DROP_FEATURES = [\"CallStart\", \"CallEnd\"]\n",
    "\n",
    "# categorical variables with NA in train set\n",
    "CATEGORICAL_VARS_WITH_NA_FREQUENT = ['Education', 'Job']\n",
    "\n",
    "CATEGORICAL_VARS_WITH_NA_MISSING = ['Communication']\n",
    "\n",
    "# Temporal variable\n",
    "TEMPORAL_VAR = 'CallDuration'\n",
    "REF_VARS =[ \"CallStart\", \"CallEnd\"]\n",
    "\n",
    "# variables to yeo-johnson transform\n",
    "NUMERICALS_YEO_VARS = [\"Balance\"]\n",
    "\n",
    "# variables to binarize\n",
    "BINARIZE_VARS = ['NoOfContacts', 'DaysPassed', 'PrevAttempts']\n",
    "\n",
    "# variables to map\n",
    "MAP_VARS = ['LastContactMonth' ]\n",
    "\n",
    "# variable mappings\n",
    "MONTH_MAPPINGS = {'jan': 1, 'feb': 2, 'mar': 3, 'apr': 4, 'may': 5, 'jun': 6, 'jul': 7,\n",
    "                    'aug': 8, 'sep': 9, 'oct': 10, 'nov': 11, 'dec': 12, 'Missing': 0, 'NA': 0}\n",
    "\n",
    "\n",
    "# categorical variables to encode\n",
    "CATEGORICAL_VARS_ENCODE = ['Job', 'Marital', 'Education', 'Communication']\n",
    "\n",
    "\n",
    "# the selected variables\n",
    "FEATURES = [\n",
    "    'Age',\n",
    "    'Job',\n",
    "    'Marital',\n",
    "    'Education',\n",
    "    'Default',\n",
    "    'Balance',\n",
    "    'HHInsurance',\n",
    "    'CarLoan',\n",
    "    'Communication',\n",
    "    'LastContactDay',\n",
    "    'LastContactMonth',\n",
    "    'NoOfContacts',\n",
    "    'DaysPassed',\n",
    "    'PrevAttempts',\n",
    "    # these are to calculate temporal variable:\n",
    "    \"CallStart\",\n",
    "    \"CallEnd\"\n",
    "]"
   ]
  },
  {
   "cell_type": "markdown",
   "id": "25498ace",
   "metadata": {},
   "source": [
    "## Pipeline\n",
    "\n",
    "- Impute categorical variables with string missing\n",
    "- Impute categorical variables with most frequent values\n",
    "- Create temporal valiable ( CallDuration)\n",
    "- Yeo-Johnson tranformation for numeric variable\n",
    "- Binary transformation of numeric variables\n",
    "- Special mappings\n",
    "- Perform One hot encoding\n",
    "- Scale features with standard scaler"
   ]
  },
  {
   "cell_type": "code",
   "execution_count": 42,
   "id": "9b2857b4",
   "metadata": {},
   "outputs": [],
   "source": [
    "# set up the pipeline for feature engineering and feature selection\n",
    "feature_pipe = Pipeline([\n",
    "\n",
    "    # ===== IMPUTATION =====\n",
    "    # impute categorical variables with string missing\n",
    "    ('missing_imputation', CategoricalImputer(\n",
    "        imputation_method='missing', variables=CATEGORICAL_VARS_WITH_NA_MISSING)),\n",
    "    \n",
    "    # impute categorical variables with mode value\n",
    "    ('frequent_imputation', CategoricalImputer(\n",
    "        imputation_method='frequent', variables=CATEGORICAL_VARS_WITH_NA_FREQUENT)),\n",
    "\n",
    "    \n",
    "    # == TEMPORAL VARIABLES ====\n",
    "    ('call_duration', TemporalVariableTransformer(\n",
    "        variable=TEMPORAL_VAR, ref_variables=REF_VARS)),\n",
    "\n",
    "    ('drop_features', DropFeatures(features_to_drop= DROP_FEATURES)),\n",
    "\n",
    "\n",
    "    # ==== VARIABLE TRANSFORMATION =====\n",
    "    ('yeojohnson', YeoJohnsonTransformer(variables=NUMERICALS_YEO_VARS)),\n",
    "    \n",
    "    ('binarizer', SklearnTransformerWrapper(\n",
    "        transformer=Binarizer(threshold=0), variables=BINARIZE_VARS)),\n",
    "    \n",
    "    # === mappers ===\n",
    "    ('mapper_month', Mapper(\n",
    "        variables=MAP_VARS, mappings=MONTH_MAPPINGS)),\n",
    "\n",
    "    # == CATEGORICAL ENCODING\n",
    "    # encode categorical with one hot encoding\n",
    "    ('categorical_encoder', OneHotEncoder(\n",
    "        drop_last=True, variables=CATEGORICAL_VARS_ENCODE)),\n",
    "    \n",
    "    # scale\n",
    "    ('scaler', StandardScaler()) \n",
    "    \n",
    "])"
   ]
  },
  {
   "cell_type": "markdown",
   "id": "6400d677",
   "metadata": {},
   "source": [
    "## Logistic regression\n",
    "\n",
    "Logistic regression is a supervised machine learning classification algorithm to classify binary classes(0,1).\n",
    "Here logistic regression is used  with regularization parmeter value 0.0005."
   ]
  },
  {
   "cell_type": "code",
   "execution_count": 43,
   "id": "4e5fc910",
   "metadata": {},
   "outputs": [],
   "source": [
    "mdl_pipeline = Pipeline([\n",
    "    ('featurePipe', feature_pipe),\n",
    "    ('clf', LogisticRegression(C=0.0005, random_state=random_state))\n",
    "])"
   ]
  },
  {
   "cell_type": "markdown",
   "id": "efa7829e",
   "metadata": {},
   "source": [
    "### Training"
   ]
  },
  {
   "cell_type": "code",
   "execution_count": 44,
   "id": "2a27bd17",
   "metadata": {},
   "outputs": [],
   "source": [
    "# train the pipeline\n",
    "mdl_pipeline.fit(X_train, y_train)\n",
    "\n",
    "\n",
    "#cross validation \n",
    "cv = KFold(n_splits=10)\n",
    "\n",
    "# make predictions for train set\n",
    "y_pred = cross_val_predict(mdl_pipeline, X_train, y_train, cv=cv)\n",
    "y_prob = cross_val_predict(mdl_pipeline, X_train, y_train, cv=cv, method='predict_proba')"
   ]
  },
  {
   "cell_type": "markdown",
   "id": "ac021ebb",
   "metadata": {},
   "source": [
    "### Prediction results"
   ]
  },
  {
   "cell_type": "code",
   "execution_count": 45,
   "id": "cf2c2d13",
   "metadata": {},
   "outputs": [
    {
     "name": "stdout",
     "output_type": "stream",
     "text": [
      "train roc-auc: 0.8421931762395679\n",
      "train accuracy: 0.709375\n",
      "train recall: 0.3142857142857143\n",
      "train precision: 0.8571428571428571\n",
      "train f1_score: 0.45993031358885017\n",
      "\n",
      "test roc-auc: 0.854249541003672\n",
      "test accuracy: 0.68875\n",
      "test recall: 0.3168604651162791\n",
      "test precision: 0.8861788617886179\n",
      "test f1_score: 0.4668094218415418\n",
      "\n"
     ]
    }
   ],
   "source": [
    "# train set results\n",
    "print('train roc-auc: {}'.format(roc_auc_score(y_train, y_prob[:,1])))\n",
    "print('train accuracy: {}'.format(accuracy_score(y_train, y_pred)))\n",
    "print('train recall: {}'.format(recall_score(y_train, y_pred)))\n",
    "print('train precision: {}'.format(precision_score(y_train, y_pred)))\n",
    "print('train f1_score: {}'.format(f1_score(y_train, y_pred)))\n",
    "print()\n",
    "\n",
    "# make predictions for test set\n",
    "y_pred1 = mdl_pipeline.predict(X_test)\n",
    "y_prob1 = mdl_pipeline.predict_proba(X_test)\n",
    "\n",
    "# test set results\n",
    "print('test roc-auc: {}'.format(roc_auc_score(y_test, y_prob1[:,1])))\n",
    "print('test accuracy: {}'.format(accuracy_score(y_test, y_pred1)))\n",
    "print('test recall: {}'.format(recall_score(y_test, y_pred1)))\n",
    "print('test precision: {}'.format(precision_score(y_test, y_pred1)))\n",
    "print('test f1_score: {}'.format(f1_score(y_test, y_pred1)))\n",
    "print()"
   ]
  },
  {
   "cell_type": "markdown",
   "id": "afd02cdf",
   "metadata": {},
   "source": [
    "### Confusion Matrix and Classification Report"
   ]
  },
  {
   "cell_type": "code",
   "execution_count": 46,
   "id": "ad106fd6",
   "metadata": {},
   "outputs": [
    {
     "data": {
      "image/png": "[encoded data removed]",
      "text/plain": [
       "<Figure size 432x288 with 2 Axes>"
      ]
     },
     "metadata": {
      "needs_background": "light"
     },
     "output_type": "display_data"
    },
    {
     "name": "stdout",
     "output_type": "stream",
     "text": [
      "              precision    recall  f1-score   support\n",
      "\n",
      "           0       0.65      0.97      0.78       456\n",
      "           1       0.89      0.32      0.47       344\n",
      "\n",
      "    accuracy                           0.69       800\n",
      "   macro avg       0.77      0.64      0.62       800\n",
      "weighted avg       0.75      0.69      0.65       800\n",
      "\n"
     ]
    }
   ],
   "source": [
    "sns.heatmap(confusion_matrix(y_test, y_pred1), annot= True, fmt='.0f')\n",
    "plt.show()\n",
    "\n",
    "print(classification_report(y_test, y_pred1))"
   ]
  },
  {
   "cell_type": "markdown",
   "id": "c42a7176",
   "metadata": {},
   "source": [
    "From Logistic regression it is seen that the Model is not working well when classifying both class. The recall value for class 1 is very low and precision for class 0 is not good and f1-score is low for class 1. Accuracy of the model is also not good. Examination of other clasifiers needed."
   ]
  },
  {
   "cell_type": "markdown",
   "id": "ab2b1ee9",
   "metadata": {},
   "source": [
    "## Decision Tree Classifier"
   ]
  },
  {
   "cell_type": "code",
   "execution_count": 48,
   "id": "a78a7389",
   "metadata": {},
   "outputs": [],
   "source": [
    "mdl_pipeline = Pipeline([\n",
    "    ('featurePipe', feature_pipe),\n",
    "    ('clf', DecisionTreeClassifier(random_state=random_state))\n",
    "])"
   ]
  },
  {
   "cell_type": "markdown",
   "id": "1b78416d",
   "metadata": {},
   "source": [
    "### Training"
   ]
  },
  {
   "cell_type": "code",
   "execution_count": 50,
   "id": "2cb17b37",
   "metadata": {},
   "outputs": [],
   "source": [
    "# train the pipeline\n",
    "mdl_pipeline.fit(X_train, y_train)\n",
    "\n",
    "\n",
    "#cross validation \n",
    "cv = KFold(n_splits=10)\n",
    "\n",
    "# make predictions for train set\n",
    "y_pred = cross_val_predict(mdl_pipeline, X_train, y_train, cv=cv)\n",
    "y_prob = cross_val_predict(mdl_pipeline, X_train, y_train, cv=cv, method='predict_proba')"
   ]
  },
  {
   "cell_type": "markdown",
   "id": "1d7f22ea",
   "metadata": {},
   "source": [
    "### Prediction results"
   ]
  },
  {
   "cell_type": "code",
   "execution_count": 51,
   "id": "d847890c",
   "metadata": {},
   "outputs": [
    {
     "name": "stdout",
     "output_type": "stream",
     "text": [
      "train roc-auc: 0.7581492390770741\n",
      "train accuracy: 0.77\n",
      "train recall: 0.7023809523809523\n",
      "train precision: 0.7102728731942215\n",
      "train f1_score: 0.7063048683160416\n",
      "\n",
      "test roc-auc: 0.7822062423500612\n",
      "test accuracy: 0.78875\n",
      "test recall: 0.7354651162790697\n",
      "test precision: 0.7643504531722054\n",
      "test f1_score: 0.7496296296296295\n",
      "\n"
     ]
    }
   ],
   "source": [
    "# train set results\n",
    "print('train roc-auc: {}'.format(roc_auc_score(y_train, y_prob[:,1])))\n",
    "print('train accuracy: {}'.format(accuracy_score(y_train, y_pred)))\n",
    "print('train recall: {}'.format(recall_score(y_train, y_pred)))\n",
    "print('train precision: {}'.format(precision_score(y_train, y_pred)))\n",
    "print('train f1_score: {}'.format(f1_score(y_train, y_pred)))\n",
    "print()\n",
    "\n",
    "# make predictions for test set\n",
    "y_pred1 = mdl_pipeline.predict(X_test)\n",
    "y_prob1 = mdl_pipeline.predict_proba(X_test)\n",
    "\n",
    "# test set results\n",
    "print('test roc-auc: {}'.format(roc_auc_score(y_test, y_prob1[:,1])))\n",
    "print('test accuracy: {}'.format(accuracy_score(y_test, y_pred1)))\n",
    "print('test recall: {}'.format(recall_score(y_test, y_pred1)))\n",
    "print('test precision: {}'.format(precision_score(y_test, y_pred1)))\n",
    "print('test f1_score: {}'.format(f1_score(y_test, y_pred1)))\n",
    "print()"
   ]
  },
  {
   "cell_type": "markdown",
   "id": "86527949",
   "metadata": {},
   "source": [
    "### Confusion Matrix and Classification Report"
   ]
  },
  {
   "cell_type": "code",
   "execution_count": 52,
   "id": "45f644bb",
   "metadata": {},
   "outputs": [
    {
     "data": {
      "image/png": "[encoded data removed]",
      "text/plain": [
       "<Figure size 432x288 with 2 Axes>"
      ]
     },
     "metadata": {
      "needs_background": "light"
     },
     "output_type": "display_data"
    },
    {
     "name": "stdout",
     "output_type": "stream",
     "text": [
      "              precision    recall  f1-score   support\n",
      "\n",
      "           0       0.81      0.83      0.82       456\n",
      "           1       0.76      0.74      0.75       344\n",
      "\n",
      "    accuracy                           0.79       800\n",
      "   macro avg       0.79      0.78      0.78       800\n",
      "weighted avg       0.79      0.79      0.79       800\n",
      "\n"
     ]
    }
   ],
   "source": [
    "sns.heatmap(confusion_matrix(y_test, y_pred1), annot= True, fmt='.0f')\n",
    "plt.show()\n",
    "\n",
    "print(classification_report(y_test, y_pred1))"
   ]
  },
  {
   "cell_type": "markdown",
   "id": "33f646d3",
   "metadata": {},
   "source": [
    "The decision tree classifier performs better than the Logistic Regression, though the ROC-AUC value reduces . This may be possiible due to overfitting. Next stp is to try Random forest to see how it works."
   ]
  },
  {
   "cell_type": "markdown",
   "id": "c0d187e3",
   "metadata": {},
   "source": [
    "## Random Forest Classifier"
   ]
  },
  {
   "cell_type": "code",
   "execution_count": 65,
   "id": "5fad5745",
   "metadata": {},
   "outputs": [],
   "source": [
    "mdl_pipeline = Pipeline([\n",
    "    ('featurePipe', feature_pipe),\n",
    "    ('clf', RandomForestClassifier(random_state=random_state))\n",
    "])"
   ]
  },
  {
   "cell_type": "markdown",
   "id": "9990ff63",
   "metadata": {},
   "source": [
    "### Training"
   ]
  },
  {
   "cell_type": "code",
   "execution_count": 66,
   "id": "93f2d92b",
   "metadata": {},
   "outputs": [],
   "source": [
    "# train the pipeline\n",
    "mdl_pipeline.fit(X_train, y_train)\n",
    "\n",
    "\n",
    "#cross validation \n",
    "cv = KFold(n_splits=10)\n",
    "\n",
    "# make predictions for train set\n",
    "y_pred = cross_val_predict(mdl_pipeline, X_train, y_train, cv=cv)\n",
    "y_prob = cross_val_predict(mdl_pipeline, X_train, y_train, cv=cv, method='predict_proba')"
   ]
  },
  {
   "cell_type": "markdown",
   "id": "57b1985a",
   "metadata": {},
   "source": [
    "### Prediction results"
   ]
  },
  {
   "cell_type": "code",
   "execution_count": 67,
   "id": "f3c48543",
   "metadata": {},
   "outputs": [
    {
     "name": "stdout",
     "output_type": "stream",
     "text": [
      "train roc-auc: 0.9022651775486826\n",
      "train accuracy: 0.8234375\n",
      "train recall: 0.7777777777777778\n",
      "train precision: 0.7747035573122529\n",
      "train f1_score: 0.7762376237623763\n",
      "\n",
      "test roc-auc: 0.9141517492860057\n",
      "test accuracy: 0.8525\n",
      "test recall: 0.8343023255813954\n",
      "test precision: 0.8247126436781609\n",
      "test f1_score: 0.8294797687861273\n",
      "\n"
     ]
    }
   ],
   "source": [
    "# train set results\n",
    "print('train roc-auc: {}'.format(roc_auc_score(y_train, y_prob[:,1])))\n",
    "print('train accuracy: {}'.format(accuracy_score(y_train, y_pred)))\n",
    "print('train recall: {}'.format(recall_score(y_train, y_pred)))\n",
    "print('train precision: {}'.format(precision_score(y_train, y_pred)))\n",
    "print('train f1_score: {}'.format(f1_score(y_train, y_pred)))\n",
    "print()\n",
    "\n",
    "# make predictions for test set\n",
    "y_pred1 = mdl_pipeline.predict(X_test)\n",
    "y_prob1 = mdl_pipeline.predict_proba(X_test)\n",
    "\n",
    "# test set results\n",
    "print('test roc-auc: {}'.format(roc_auc_score(y_test, y_prob1[:,1])))\n",
    "print('test accuracy: {}'.format(accuracy_score(y_test, y_pred1)))\n",
    "print('test recall: {}'.format(recall_score(y_test, y_pred1)))\n",
    "print('test precision: {}'.format(precision_score(y_test, y_pred1)))\n",
    "print('test f1_score: {}'.format(f1_score(y_test, y_pred1)))\n",
    "print()"
   ]
  },
  {
   "cell_type": "markdown",
   "id": "f637de28",
   "metadata": {},
   "source": [
    "### Confusion Matrix and Classification Report"
   ]
  },
  {
   "cell_type": "code",
   "execution_count": 68,
   "id": "15a2a781",
   "metadata": {},
   "outputs": [
    {
     "data": {
      "image/png": "[encoded data removed]",
      "text/plain": [
       "<Figure size 432x288 with 2 Axes>"
      ]
     },
     "metadata": {
      "needs_background": "light"
     },
     "output_type": "display_data"
    },
    {
     "name": "stdout",
     "output_type": "stream",
     "text": [
      "              precision    recall  f1-score   support\n",
      "\n",
      "           0       0.87      0.87      0.87       456\n",
      "           1       0.82      0.83      0.83       344\n",
      "\n",
      "    accuracy                           0.85       800\n",
      "   macro avg       0.85      0.85      0.85       800\n",
      "weighted avg       0.85      0.85      0.85       800\n",
      "\n"
     ]
    }
   ],
   "source": [
    "sns.heatmap(confusion_matrix(y_test, y_pred1), annot= True, fmt='.0f')\n",
    "plt.show()\n",
    "\n",
    "print(classification_report(y_test, y_pred1))"
   ]
  },
  {
   "cell_type": "markdown",
   "id": "ca63262b",
   "metadata": {},
   "source": [
    "Random forest classifier seems to increase all the evaluation metrics  values. The model accuracy for unseen data is 85%.  "
   ]
  },
  {
   "cell_type": "markdown",
   "id": "b0ac6ee6",
   "metadata": {},
   "source": [
    "## Bagging Classifier"
   ]
  },
  {
   "cell_type": "code",
   "execution_count": 57,
   "id": "1ce96f46",
   "metadata": {},
   "outputs": [],
   "source": [
    "mdl_pipeline = Pipeline([\n",
    "    ('featurePipe', feature_pipe),\n",
    "    ('clf', BaggingClassifier(random_state=random_state)) \n",
    "])"
   ]
  },
  {
   "cell_type": "markdown",
   "id": "18c56249",
   "metadata": {},
   "source": [
    "### Training"
   ]
  },
  {
   "cell_type": "code",
   "execution_count": 58,
   "id": "1145a33f",
   "metadata": {},
   "outputs": [],
   "source": [
    "# train the pipeline\n",
    "mdl_pipeline.fit(X_train, y_train)\n",
    "\n",
    "\n",
    "#cross validation \n",
    "cv = KFold(n_splits=10)\n",
    "\n",
    "# make predictions for train set\n",
    "y_pred = cross_val_predict(mdl_pipeline, X_train, y_train, cv=cv)\n",
    "y_prob = cross_val_predict(mdl_pipeline, X_train, y_train, cv=cv, method='predict_proba')"
   ]
  },
  {
   "cell_type": "markdown",
   "id": "93bee927",
   "metadata": {},
   "source": [
    "### Prediction results"
   ]
  },
  {
   "cell_type": "code",
   "execution_count": 59,
   "id": "b85de026",
   "metadata": {},
   "outputs": [
    {
     "name": "stdout",
     "output_type": "stream",
     "text": [
      "train roc-auc: 0.88165950744559\n",
      "train accuracy: 0.7971875\n",
      "train recall: 0.7071428571428572\n",
      "train precision: 0.7608881298035867\n",
      "train f1_score: 0.7330316742081447\n",
      "\n",
      "test roc-auc: 0.9058834404324766\n",
      "test accuracy: 0.8325\n",
      "test recall: 0.7848837209302325\n",
      "test precision: 0.8181818181818182\n",
      "test f1_score: 0.8011869436201781\n",
      "\n"
     ]
    }
   ],
   "source": [
    "# train set results\n",
    "print('train roc-auc: {}'.format(roc_auc_score(y_train, y_prob[:,1])))\n",
    "print('train accuracy: {}'.format(accuracy_score(y_train, y_pred)))\n",
    "print('train recall: {}'.format(recall_score(y_train, y_pred)))\n",
    "print('train precision: {}'.format(precision_score(y_train, y_pred)))\n",
    "print('train f1_score: {}'.format(f1_score(y_train, y_pred)))\n",
    "print()\n",
    "\n",
    "# make predictions for test set\n",
    "y_pred1 = mdl_pipeline.predict(X_test)\n",
    "y_prob1 = mdl_pipeline.predict_proba(X_test)\n",
    "\n",
    "# test set results\n",
    "print('test roc-auc: {}'.format(roc_auc_score(y_test, y_prob1[:,1])))\n",
    "print('test accuracy: {}'.format(accuracy_score(y_test, y_pred1)))\n",
    "print('test recall: {}'.format(recall_score(y_test, y_pred1)))\n",
    "print('test precision: {}'.format(precision_score(y_test, y_pred1)))\n",
    "print('test f1_score: {}'.format(f1_score(y_test, y_pred1)))\n",
    "print()"
   ]
  },
  {
   "cell_type": "markdown",
   "id": "218dd2f3",
   "metadata": {},
   "source": [
    "### Confusion Matrix and Classification Report"
   ]
  },
  {
   "cell_type": "code",
   "execution_count": 60,
   "id": "b358fe8e",
   "metadata": {},
   "outputs": [
    {
     "data": {
      "image/png": "[encoded data removed]",
      "text/plain": [
       "<Figure size 432x288 with 2 Axes>"
      ]
     },
     "metadata": {
      "needs_background": "light"
     },
     "output_type": "display_data"
    },
    {
     "name": "stdout",
     "output_type": "stream",
     "text": [
      "              precision    recall  f1-score   support\n",
      "\n",
      "           0       0.84      0.87      0.86       456\n",
      "           1       0.82      0.78      0.80       344\n",
      "\n",
      "    accuracy                           0.83       800\n",
      "   macro avg       0.83      0.83      0.83       800\n",
      "weighted avg       0.83      0.83      0.83       800\n",
      "\n"
     ]
    }
   ],
   "source": [
    "sns.heatmap(confusion_matrix(y_test, y_pred1), annot= True, fmt='.0f')\n",
    "plt.show()\n",
    "\n",
    "print(classification_report(y_test, y_pred1))"
   ]
  },
  {
   "cell_type": "markdown",
   "id": "e117726e",
   "metadata": {},
   "source": [
    "Bagging with Decision Tree has performed better than previous classifiers except Random Forest. "
   ]
  },
  {
   "cell_type": "markdown",
   "id": "94e50941",
   "metadata": {},
   "source": [
    "## XGBoost Classifier"
   ]
  },
  {
   "cell_type": "code",
   "execution_count": 61,
   "id": "1fb85220",
   "metadata": {},
   "outputs": [],
   "source": [
    "mdl_pipeline = Pipeline([\n",
    "    ('featurePipe', feature_pipe),\n",
    "    ('clf', XGBClassifier(use_label_encoder=False, eval_metric='logloss')) \n",
    "])"
   ]
  },
  {
   "cell_type": "markdown",
   "id": "db56685e",
   "metadata": {},
   "source": [
    "### Training"
   ]
  },
  {
   "cell_type": "code",
   "execution_count": 62,
   "id": "5f567428",
   "metadata": {},
   "outputs": [],
   "source": [
    "# train the pipeline\n",
    "mdl_pipeline.fit(X_train, y_train)\n",
    "\n",
    "\n",
    "#cross validation \n",
    "cv = KFold(n_splits=10)\n",
    "\n",
    "# make predictions for train set\n",
    "y_pred = cross_val_predict(mdl_pipeline, X_train, y_train, cv=cv)\n",
    "y_prob = cross_val_predict(mdl_pipeline, X_train, y_train, cv=cv, method='predict_proba')"
   ]
  },
  {
   "cell_type": "markdown",
   "id": "07b0e916",
   "metadata": {},
   "source": [
    "### Prediction results"
   ]
  },
  {
   "cell_type": "code",
   "execution_count": 63,
   "id": "1a2a835e",
   "metadata": {},
   "outputs": [
    {
     "name": "stdout",
     "output_type": "stream",
     "text": [
      "train roc-auc: 0.9039113892979872\n",
      "train accuracy: 0.828125\n",
      "train recall: 0.796031746031746\n",
      "train precision: 0.7739197530864198\n",
      "train f1_score: 0.7848200312989045\n",
      "\n",
      "test roc-auc: 0.9119874541003671\n",
      "test accuracy: 0.83375\n",
      "test recall: 0.7994186046511628\n",
      "test precision: 0.8112094395280236\n",
      "test f1_score: 0.8052708638360176\n",
      "\n"
     ]
    }
   ],
   "source": [
    "# train set results\n",
    "print('train roc-auc: {}'.format(roc_auc_score(y_train, y_prob[:,1])))\n",
    "print('train accuracy: {}'.format(accuracy_score(y_train, y_pred)))\n",
    "print('train recall: {}'.format(recall_score(y_train, y_pred)))\n",
    "print('train precision: {}'.format(precision_score(y_train, y_pred)))\n",
    "print('train f1_score: {}'.format(f1_score(y_train, y_pred)))\n",
    "print()\n",
    "\n",
    "# make predictions for test set\n",
    "y_pred1 = mdl_pipeline.predict(X_test)\n",
    "y_prob1 = mdl_pipeline.predict_proba(X_test)\n",
    "\n",
    "# test set results\n",
    "print('test roc-auc: {}'.format(roc_auc_score(y_test, y_prob1[:,1])))\n",
    "print('test accuracy: {}'.format(accuracy_score(y_test, y_pred1)))\n",
    "print('test recall: {}'.format(recall_score(y_test, y_pred1)))\n",
    "print('test precision: {}'.format(precision_score(y_test, y_pred1)))\n",
    "print('test f1_score: {}'.format(f1_score(y_test, y_pred1)))\n",
    "print()"
   ]
  },
  {
   "cell_type": "markdown",
   "id": "4eddc29e",
   "metadata": {},
   "source": [
    "### Confusion Matrix and Classification Report"
   ]
  },
  {
   "cell_type": "code",
   "execution_count": 64,
   "id": "f93ba778",
   "metadata": {},
   "outputs": [
    {
     "data": {
      "image/png": "[encoded data removed]",
      "text/plain": [
       "<Figure size 432x288 with 2 Axes>"
      ]
     },
     "metadata": {
      "needs_background": "light"
     },
     "output_type": "display_data"
    },
    {
     "name": "stdout",
     "output_type": "stream",
     "text": [
      "              precision    recall  f1-score   support\n",
      "\n",
      "           0       0.85      0.86      0.85       456\n",
      "           1       0.81      0.80      0.81       344\n",
      "\n",
      "    accuracy                           0.83       800\n",
      "   macro avg       0.83      0.83      0.83       800\n",
      "weighted avg       0.83      0.83      0.83       800\n",
      "\n"
     ]
    }
   ],
   "source": [
    "sns.heatmap(confusion_matrix(y_test, y_pred1), annot= True, fmt='.0f')\n",
    "plt.show()\n",
    "\n",
    "print(classification_report(y_test, y_pred1))"
   ]
  },
  {
   "cell_type": "markdown",
   "id": "c3cec7c1",
   "metadata": {},
   "source": [
    "In the abobe cases XGBoost could not outperform Random forest model here. So Random forest is choosen for production packaging."
   ]
  },
  {
   "cell_type": "markdown",
   "id": "e70265c6",
   "metadata": {},
   "source": [
    "# Score new data\n",
    "Prediction of the test data is done using above selected Random Forest Model."
   ]
  },
  {
   "cell_type": "code",
   "execution_count": 69,
   "id": "1fb110ee",
   "metadata": {},
   "outputs": [
    {
     "name": "stdout",
     "output_type": "stream",
     "text": [
      "(1000, 16)\n"
     ]
    }
   ],
   "source": [
    "# load the unseen / new dataset\n",
    "test = pd.read_csv('carInsurance_test.csv')\n",
    "\n",
    "test = test[FEATURES]\n",
    "\n",
    "print(test.shape)"
   ]
  },
  {
   "cell_type": "code",
   "execution_count": 70,
   "id": "4ddb3f45",
   "metadata": {},
   "outputs": [
    {
     "data": {
      "text/plain": [
       "[]"
      ]
     },
     "execution_count": 70,
     "metadata": {},
     "output_type": "execute_result"
    }
   ],
   "source": [
    "new_vars_with_na = [\n",
    "    var for var in FEATURES\n",
    "    if var not in CATEGORICAL_VARS_WITH_NA_FREQUENT +\n",
    "    CATEGORICAL_VARS_WITH_NA_MISSING \n",
    "    and test[var].isnull().sum() > 0]\n",
    "\n",
    "new_vars_with_na"
   ]
  },
  {
   "cell_type": "code",
   "execution_count": 71,
   "id": "61a0adf8",
   "metadata": {},
   "outputs": [],
   "source": [
    "new_preds = mdl_pipeline.predict(test)"
   ]
  },
  {
   "cell_type": "code",
   "execution_count": 72,
   "id": "b44ec038",
   "metadata": {},
   "outputs": [
    {
     "data": {
      "text/plain": [
       "array([0, 0, 0, 1, 0, 1, 0, 1, 0, 0, 0, 1, 1, 0, 0, 0, 1, 0, 0, 0, 0, 1,\n",
       "       0, 0, 0, 0, 0, 1, 0, 0, 0, 1, 1, 0, 0, 0, 0, 1, 1, 1, 0, 1, 0, 0,\n",
       "       1, 0, 1, 0, 1, 0, 0, 0, 0, 0, 0, 1, 0, 1, 0, 1, 1, 1, 0, 0, 0, 0,\n",
       "       1, 0, 0, 1, 0, 0, 0, 1, 0, 0, 0, 0, 1, 0, 0, 0, 0, 1, 0, 0, 1, 1,\n",
       "       0, 1, 1, 0, 1, 1, 1, 1, 1, 1, 1, 1, 0, 1, 1, 0, 0, 0, 0, 0, 1, 0,\n",
       "       0, 0, 1, 0, 0, 1, 1, 0, 0, 1, 1, 0, 1, 1, 0, 0, 0, 1, 1, 1, 1, 1,\n",
       "       1, 1, 0, 1, 1, 1, 1, 0, 0, 0, 0, 1, 0, 0, 0, 0, 1, 1, 1, 1, 0, 0,\n",
       "       1, 1, 1, 0, 0, 1, 1, 1, 0, 0, 0, 0, 0, 0, 0, 1, 1, 1, 0, 1, 0, 0,\n",
       "       0, 0, 0, 1, 0, 0, 1, 1, 0, 0, 0, 0, 0, 1, 1, 0, 0, 1, 0, 1, 1, 0,\n",
       "       0, 1, 1, 0, 1, 1, 0, 0, 1, 0, 0, 1, 1, 0, 1, 0, 0, 1, 0, 0, 1, 0,\n",
       "       1, 0, 0, 1, 0, 0, 1, 0, 0, 1, 1, 1, 0, 1, 0, 0, 0, 0, 0, 0, 0, 1,\n",
       "       0, 0, 0, 1, 0, 1, 1, 0, 1, 0, 0, 0, 0, 0, 0, 1, 0, 1, 1, 0, 1, 1,\n",
       "       1, 0, 0, 1, 0, 1, 0, 0, 0, 0, 1, 0, 0, 0, 1, 0, 0, 0, 1, 0, 1, 0,\n",
       "       0, 0, 0, 0, 0, 1, 1, 0, 1, 0, 1, 0, 1, 0, 0, 0, 0, 0, 0, 0, 1, 0,\n",
       "       0, 0, 1, 1, 1, 0, 0, 0, 1, 1, 1, 1, 1, 0, 1, 1, 0, 1, 1, 1, 0, 0,\n",
       "       0, 1, 0, 0, 1, 1, 0, 0, 1, 1, 0, 1, 0, 1, 0, 0, 0, 1, 1, 1, 0, 0,\n",
       "       0, 1, 1, 1, 0, 1, 1, 0, 1, 1, 1, 1, 1, 0, 1, 1, 0, 0, 0, 0, 0, 0,\n",
       "       0, 1, 0, 0, 1, 0, 0, 0, 0, 0, 1, 0, 0, 0, 0, 0, 0, 1, 0, 1, 1, 1,\n",
       "       0, 1, 0, 0, 1, 0, 1, 0, 1, 0, 0, 1, 0, 1, 1, 1, 1, 1, 0, 0, 1, 0,\n",
       "       0, 1, 0, 1, 0, 1, 0, 0, 0, 1, 0, 1, 0, 1, 0, 0, 0, 0, 1, 1, 0, 0,\n",
       "       0, 1, 0, 0, 0, 1, 0, 0, 0, 1, 1, 0, 1, 1, 0, 1, 0, 0, 1, 0, 0, 0,\n",
       "       0, 0, 1, 0, 1, 1, 0, 1, 0, 0, 0, 0, 1, 1, 1, 1, 1, 1, 0, 1, 0, 0,\n",
       "       1, 1, 1, 0, 0, 1, 0, 0, 1, 0, 1, 0, 1, 0, 0, 0, 1, 0, 1, 1, 0, 0,\n",
       "       1, 0, 1, 1, 0, 1, 0, 0, 0, 0, 0, 0, 1, 0, 0, 0, 0, 1, 0, 0, 1, 0,\n",
       "       0, 0, 0, 0, 0, 0, 0, 0, 0, 0, 0, 0, 0, 1, 0, 1, 0, 1, 0, 0, 0, 0,\n",
       "       1, 1, 1, 0, 0, 0, 0, 0, 1, 1, 0, 0, 1, 1, 1, 0, 0, 0, 0, 1, 0, 1,\n",
       "       1, 0, 0, 0, 0, 1, 1, 0, 1, 1, 0, 0, 0, 0, 0, 0, 0, 1, 1, 0, 0, 1,\n",
       "       0, 1, 1, 1, 0, 0, 1, 1, 0, 0, 0, 1, 1, 1, 1, 1, 0, 0, 1, 0, 1, 1,\n",
       "       1, 0, 0, 1, 0, 0, 1, 0, 1, 0, 0, 1, 1, 1, 1, 1, 0, 1, 0, 0, 1, 0,\n",
       "       0, 0, 1, 0, 0, 1, 0, 0, 0, 0, 0, 1, 0, 1, 0, 0, 1, 1, 0, 0, 0, 1,\n",
       "       1, 0, 0, 0, 0, 0, 1, 0, 1, 1, 1, 1, 1, 1, 0, 0, 1, 0, 1, 1, 1, 0,\n",
       "       0, 1, 1, 0, 1, 0, 0, 1, 1, 0, 1, 0, 0, 0, 1, 1, 1, 1, 0, 0, 0, 0,\n",
       "       0, 0, 0, 0, 0, 0, 1, 0, 0, 1, 0, 0, 0, 1, 1, 0, 0, 0, 0, 0, 1, 0,\n",
       "       0, 0, 1, 1, 0, 0, 1, 0, 1, 0, 1, 1, 1, 0, 1, 1, 1, 0, 0, 1, 1, 1,\n",
       "       1, 0, 0, 0, 1, 1, 1, 1, 1, 0, 0, 0, 0, 0, 0, 0, 1, 0, 1, 0, 0, 1,\n",
       "       0, 0, 0, 0, 0, 0, 0, 1, 0, 1, 0, 0, 1, 1, 0, 1, 1, 0, 1, 0, 0, 0,\n",
       "       0, 0, 1, 0, 1, 1, 0, 1, 0, 1, 0, 1, 0, 1, 0, 1, 0, 0, 0, 0, 1, 0,\n",
       "       0, 1, 0, 0, 0, 1, 1, 0, 0, 1, 1, 0, 1, 0, 1, 1, 0, 1, 0, 0, 0, 1,\n",
       "       1, 1, 1, 1, 1, 1, 1, 1, 0, 0, 0, 0, 0, 0, 1, 1, 0, 1, 0, 1, 1, 1,\n",
       "       1, 0, 1, 1, 1, 0, 0, 1, 1, 1, 0, 0, 1, 1, 0, 1, 0, 0, 0, 1, 1, 0,\n",
       "       0, 1, 0, 0, 0, 0, 0, 0, 0, 1, 0, 0, 0, 0, 0, 0, 0, 0, 1, 0, 1, 0,\n",
       "       0, 0, 0, 0, 0, 1, 0, 0, 0, 0, 1, 0, 0, 1, 0, 0, 0, 1, 1, 0, 0, 1,\n",
       "       1, 1, 0, 0, 0, 1, 0, 0, 0, 0, 0, 1, 0, 1, 1, 0, 1, 0, 1, 0, 0, 1,\n",
       "       0, 1, 0, 1, 0, 0, 1, 0, 0, 1, 0, 0, 0, 1, 0, 0, 1, 0, 0, 1, 1, 0,\n",
       "       1, 0, 1, 0, 1, 1, 0, 0, 0, 0, 1, 0, 0, 0, 0, 0, 0, 1, 0, 0, 0, 0,\n",
       "       0, 1, 1, 0, 1, 0, 1, 0, 0, 1], dtype=int64)"
      ]
     },
     "execution_count": 72,
     "metadata": {},
     "output_type": "execute_result"
    }
   ],
   "source": [
    "new_preds"
   ]
  },
  {
   "cell_type": "markdown",
   "id": "18ed51a0",
   "metadata": {},
   "source": [
    "<b>NOTE :</b> The above models were run using the default settings. Models could be run using different hyper-parameters to see their performance. Due to the limited time basic models are used, but for a ideal project hyper-parameters should be checked, even though it is a lenthy process.\n",
    "\n",
    "Outlies are not checked in this case as this might reduce the training data significantly as the numerical boxplot suggests the outlier detection techniques can reduce a condirate amount of data. As the data is limited foucus is not given on Outliers."
   ]
  }
 ],
 "metadata": {
  "kernelspec": {
   "display_name": "Python 3",
   "language": "python",
   "name": "python3"
  },
  "language_info": {
   "codemirror_mode": {
    "name": "ipython",
    "version": 3
   },
   "file_extension": ".py",
   "mimetype": "text/x-python",
   "name": "python",
   "nbconvert_exporter": "python",
   "pygments_lexer": "ipython3",
   "version": "3.8.10"
  }
 },
 "nbformat": 4,
 "nbformat_minor": 5
}
